{
  "cells": [
    {
      "cell_type": "markdown",
      "id": "d87d388a",
      "metadata": {},
      "source": [
        "# ![](../Imagens/Titulo1_Limpeza_e_Transformacao.png)\n",
        "\n"
      ]
    },
    {
      "cell_type": "markdown",
      "metadata": {},
      "source": [
        "# Introdução"
      ]
    },
    {
      "cell_type": "markdown",
      "metadata": {},
      "source": [
        "Zomato é um aplicativo de entrega de comida da índia. A empresa disponibilizou no site [Kaggle](https://www.kaggle.com/datasets/anas123siddiqui/zomato-database?select=menu.csv), informações **reais** sobre os **clientes**, os pedidos, os **itens disponíveis no aplicativo** e os **restaurantes**. Este projeto será desenvolvido a partir destas informações."
      ]
    },
    {
      "cell_type": "markdown",
      "id": "de18546e",
      "metadata": {},
      "source": [
        "# Objetivo\n",
        "O objetivo inicial era criar um Sistema de Recomendação de categorias de comida. Porém, durante a Análise Exploratória, descobrimos que 96% dos clientes compram o mesmo tipo de comida.\n",
        "<br>\n",
        "Então, o novo objetivo é fazer uma Análise Exploratória dos dados e criar Regras de Associação dos itens.\n"
      ]
    },
    {
      "cell_type": "markdown",
      "id": "34390ca8",
      "metadata": {},
      "source": [
        "<h2>Tabela de Conteúdo</h2>\n",
        "<div>\n",
        "  <a href=\"#introdução\">Introdução</a> <br>\n",
        "  <a href=\"#objetivo\">Objetivo</a> <br>\n",
        "  <a href=\"#carregar-dados\">Carregar os dados</a> <br>\n",
        "  <a href=\"#descrever-dados\" >Descrever os dados <br>\n",
        "    <ol style=\"list-style: none disc\">\n",
        "      <a href=\"#tabela_food\">Tabela Food</a> <br>\n",
        "      <a href=\"#tabela-menu\">Tabela Menu</a><br>\n",
        "      <a href=\"#tabela-orders\">Tabela Orders</a> <br>\n",
        "      <a href=\"#tabela-restaurant\">Tabela Restaurant</a> <br>\n",
        "      <a href=\"#tabela-users\">Tabela Users</a> <br>\n",
        "    </ol>\n",
        "  </a>\n",
        "  <a href=\"#unir-as-tabelas\">Unir tabelas <br>\n",
        "    <ol style=\"list-style: none disc\">\n",
        "      <a href=\"#tabelas-unidas\">Tabelas unidas</a> <br>\n",
        "      <a href=\"#verificar-os-dados\">Verificar dados</a> <br>\n",
        "    </ol>\n",
        "  </a> \n",
        "  <a href=\"#limpeza-dos-dados\"> Limpeza dos dados <br>\n",
        "    <ol style=\"list-style:none disc\">\n",
        "      <a href=\"#valores-ausentes\">Valores ausentes</a> <br>\n",
        "      <a href=\"#trocar----por-0\">Trocar ‘–’ por 0</a> <br>\n",
        "      <a href=\"#linhas-duplicadas\">Linhas Duplicadas</a> <br>\n",
        "    </ol> \n",
        "  </a>\n",
        "  <a href=\"#transformação-dos-dados\">Transformação dos dados</a> <br>\n",
        "    <ol style=\"list-style:none disc\">\n",
        "    <a href=\"#separar-as-categorias-de-restaurantes\">Separar r_cuisine</a> <br>\n",
        "      <a href=\"#verificar-tipo-de-dados\">Verificar tipo de dados</a> <br>\n",
        "      <a href=\"#coluna-n_avaliacoes\">Coluna ‘n_avaliacoes’</a> <br>\n",
        "      <a href=\"#coluna-veg_or_non_veg\">Coluna ‘veg_or_non_veg’</a> <br>\n",
        "      <a href=\"#separar-ano-mês-e-dia-do-pedido\">Separar data</a> <br>\n",
        "      <a href=\"#obter-dia-da-semana-do-pedido\">Obter dia da semana</a> <br>\n",
        "    </ol>  \n",
        "\n",
        "  <a href=\"#outliers\">Outliers</a> <br>\n",
        "  <ul style=\"list-style:none;margin-left: -15px;\">\n",
        "    <a href=\"#função-que-calcula-o-resumo-estatístico-para-variáveis-númericas\">Função 1</a> <br>\n",
        "    <a href=\"#função-que-retorna-valor-único\">Função 2</a> <br>\n",
        "    <a href=\"#valor-total-do-pedido-em-usd\">Valor Total do Pedido (em USD)</a> <br>\n",
        "    <ul style=\"list-style:none;margin-left: -15px;\"> <br>\n",
        "      <a href=\"#verificar-valores-negativos\">Verificar valores negativos</a> <br>\n",
        "      <a href=\"#identificando-outliers\">Identificando Outliers</a> <br>\n",
        "      <a href=\"#escolhendo-o-ponto-de-corte-para-outliers\">Escolhendo o ponto de corte para outliers</a> <br>\n",
        "    </ul>\n",
        "    <a href=\"#sales_qty\">Sales_qty</a> <br>\n",
        "    <ul>\n",
        "      <a href=\"#grafico-boxplot\">Gráfico Boxplot</a> <br>\n",
        "      <a href=\"#escolher-o-ponto-de-corte-para-outliers\">Escolher o ponto de corte para outliers</a> <br>\n",
        "    </ul>\n",
        "    <a href=\"#retirar-as-outliers\">Retirar as Outliers</a> <br>\n",
        "  </ul>\n",
        "  <a href=\"#retirar-colunas\">Retirar colunas</a> <br>\n",
        "  <a href=\"#salvar-tabela-para-análise-descritiva\">Salvar tab. Análise descritiva</a> <br>\n",
        "  </ul>\n",
        " \n",
        "</div>"
      ]
    },
    {
      "cell_type": "markdown",
      "metadata": {},
      "source": [
        "# Carregar os dados"
      ]
    },
    {
      "cell_type": "code",
      "execution_count": 69,
      "metadata": {},
      "outputs": [
        {
          "name": "stderr",
          "output_type": "stream",
          "text": [
            "C:\\Users\\Usuário\\AppData\\Local\\Temp\\ipykernel_5376\\1444801018.py:7: DtypeWarning: Columns (5) have mixed types. Specify dtype option on import or set low_memory=False.\n",
            "  m= pd.read_csv('Dataset_Original/menu.csv')\n"
          ]
        }
      ],
      "source": [
        "import pandas as pd\n",
        "import os\n",
        "#Definir o diretório\n",
        "os.chdir('C:/0.Projetos/3.Analise_Exploratoria_Zomato/')\n",
        "#carregar as bases de dados\n",
        "f=pd.read_csv('Dataset_Original/food.csv')\n",
        "m= pd.read_csv('Dataset_Original/menu.csv')\n",
        "o= pd.read_csv('Dataset_Original/orders.csv')\n",
        "r=pd.read_csv('Dataset_Original/restaurant.csv')\n",
        "u=pd.read_csv('Dataset_Original/users.csv')\n"
      ]
    },
    {
      "cell_type": "markdown",
      "metadata": {},
      "source": [
        "# Descrever os dados\n",
        "A base de dados contém 5 tabelas chamadas **Food** , **Menu** , **Orders** e **Restaurant** . \n",
        "<ul>\n",
        "<li><b>Tabela Food:</b>contém informações sobre os diversos alimentos disponíveis no aplicativo.</li>\n",
        "<li><b>Tabela Menu:</b>contém informações sobre os cardápios dos restaurantes.</li>\n",
        "<li><b>Tabela Orders:</b>contém informações sobre os pedidos feitos pelos usuários no aplicativo.</li>\n",
        "<li><b>Tabela Restaurant:</b>contém informações sobre os restaurantes disponíveis no app.</li>\n",
        "<li><b>Tabela Users:</b> contém informações sobre os usuários cadastrados no aplicativo.</li>\n",
        "</ul>\n",
        "\n",
        "\n",
        "\n",
        "A seguir será feita a descrição de cada uma.E eventuais modicações. "
      ]
    },
    {
      "cell_type": "markdown",
      "id": "6f11ef4b",
      "metadata": {},
      "source": [
        "### Tabela Food\n",
        "Contém informações sobre os diversos alimentos disponíveis no aplicativo. Tem 4 colunas:<br>\n",
        "- Index: Índice da linha<br>\n",
        "- f_id: identificador exclusivo de um item alimentar (371.561 valores únicos)<br>\n",
        "- item: nome da comida (369.356 valores únicos)<br>\n",
        "- veg_ou_non_veg: uma classificação binária de se o alimento é vegetariano ou não vegetariano<br>\n",
        "\n",
        "\n"
      ]
    },
    {
      "cell_type": "code",
      "execution_count": 70,
      "metadata": {},
      "outputs": [],
      "source": [
        "#Primeiras linhas da tabela\n",
        "f.head()\n",
        "\n",
        "#Apagar a coluna 'Unnamed: 0'\n",
        "f.drop('Unnamed: 0', axis=1, inplace=True)"
      ]
    },
    {
      "cell_type": "markdown",
      "metadata": {},
      "source": [
        "### Tabela menu\n",
        "Contém informações sobre os cardápios dos restaurantes. Tem 6 colunas:<br> \n",
        "- index: Índice da linha<br>\n",
        "- menu_id: identificador exclusivo do menu (1.048.575 valores únicos)<br>\n",
        "- r_id: identificador exclusivo do restaurante associado ao menu<br>\n",
        "- f_id: identificador exclusivo do item alimentar no menu (371.561 valores únicos)<br>\n",
        "- m_cuisine: tipo de cozinha a que pertence o item do menu<br>\n",
        "- price: preço do item do menu na moeda especificada<br>\n"
      ]
    },
    {
      "cell_type": "code",
      "execution_count": 71,
      "metadata": {},
      "outputs": [
        {
          "data": {
            "text/html": [
              "<div>\n",
              "<style scoped>\n",
              "    .dataframe tbody tr th:only-of-type {\n",
              "        vertical-align: middle;\n",
              "    }\n",
              "\n",
              "    .dataframe tbody tr th {\n",
              "        vertical-align: top;\n",
              "    }\n",
              "\n",
              "    .dataframe thead th {\n",
              "        text-align: right;\n",
              "    }\n",
              "</style>\n",
              "<table border=\"1\" class=\"dataframe\">\n",
              "  <thead>\n",
              "    <tr style=\"text-align: right;\">\n",
              "      <th></th>\n",
              "      <th>menu_id</th>\n",
              "      <th>r_id</th>\n",
              "      <th>f_id</th>\n",
              "      <th>m_cuisine</th>\n",
              "      <th>price</th>\n",
              "    </tr>\n",
              "  </thead>\n",
              "  <tbody>\n",
              "    <tr>\n",
              "      <th>0</th>\n",
              "      <td>mn0</td>\n",
              "      <td>567335</td>\n",
              "      <td>fd0</td>\n",
              "      <td>Beverages,Pizzas</td>\n",
              "      <td>40.0</td>\n",
              "    </tr>\n",
              "    <tr>\n",
              "      <th>1</th>\n",
              "      <td>mn0</td>\n",
              "      <td>567335</td>\n",
              "      <td>fd669322</td>\n",
              "      <td>Beverages,Pizzas</td>\n",
              "      <td>40.0</td>\n",
              "    </tr>\n",
              "    <tr>\n",
              "      <th>2</th>\n",
              "      <td>mn328</td>\n",
              "      <td>158203</td>\n",
              "      <td>fd0</td>\n",
              "      <td>Beverages</td>\n",
              "      <td>65.0</td>\n",
              "    </tr>\n",
              "    <tr>\n",
              "      <th>3</th>\n",
              "      <td>mn328</td>\n",
              "      <td>158203</td>\n",
              "      <td>fd669322</td>\n",
              "      <td>Beverages</td>\n",
              "      <td>65.0</td>\n",
              "    </tr>\n",
              "    <tr>\n",
              "      <th>4</th>\n",
              "      <td>mn449</td>\n",
              "      <td>158203</td>\n",
              "      <td>fd0</td>\n",
              "      <td>Beverages</td>\n",
              "      <td>65.0</td>\n",
              "    </tr>\n",
              "  </tbody>\n",
              "</table>\n",
              "</div>"
            ],
            "text/plain": [
              "  menu_id    r_id      f_id         m_cuisine price\n",
              "0     mn0  567335       fd0  Beverages,Pizzas  40.0\n",
              "1     mn0  567335  fd669322  Beverages,Pizzas  40.0\n",
              "2   mn328  158203       fd0         Beverages  65.0\n",
              "3   mn328  158203  fd669322         Beverages  65.0\n",
              "4   mn449  158203       fd0         Beverages  65.0"
            ]
          },
          "execution_count": 71,
          "metadata": {},
          "output_type": "execute_result"
        }
      ],
      "source": [
        "#Apagar a coluna 'Unnamed: 0'\n",
        "m.drop('Unnamed: 0', axis=1, inplace=True)\n",
        "\n",
        "#Renomear a linha cuisine para m_cuisine, pois existe outra tabela com uma coluna chamada cuisine \n",
        "m=m.rename(columns={'cuisine':'m_cuisine'})\n",
        "#OBS: m_cuisine: tipo de cozinha a que pertence o item do menu\n",
        "\n",
        "#Primeiras linhas da tabela\n",
        "m.head()"
      ]
    },
    {
      "cell_type": "markdown",
      "id": "620db58c",
      "metadata": {},
      "source": [
        "### Tabela Orders\n",
        "Contém informações sobre os pedidos feitos pelos usuários no aplicativo. Tem 7 colunas:<br> \n",
        "- index: índices das linhas. <br>\n",
        "- n_pedidos: número do pedido<br>\n",
        "- order_date: a data e hora em que o pedido foi feito<br>\n",
        "- sales_qty: quantidade de itens encomendados<br>\n",
        "- sales_amount: valor total do pedido, incluindo quaisquer impostos e taxas<br>\n",
        "- currency: moeda usada para o pedido (por exemplo, USD, EUR, INR, etc.)<br>\n",
        "- user_id: o identificador exclusivo do usuário que fez o pedido<br>\n",
        "- r_id:  identificador exclusivo do restaurante onde o pedido foi feito<br>\n",
        "\n"
      ]
    },
    {
      "cell_type": "code",
      "execution_count": 72,
      "metadata": {},
      "outputs": [
        {
          "data": {
            "text/html": [
              "<div>\n",
              "<style scoped>\n",
              "    .dataframe tbody tr th:only-of-type {\n",
              "        vertical-align: middle;\n",
              "    }\n",
              "\n",
              "    .dataframe tbody tr th {\n",
              "        vertical-align: top;\n",
              "    }\n",
              "\n",
              "    .dataframe thead th {\n",
              "        text-align: right;\n",
              "    }\n",
              "</style>\n",
              "<table border=\"1\" class=\"dataframe\">\n",
              "  <thead>\n",
              "    <tr style=\"text-align: right;\">\n",
              "      <th></th>\n",
              "      <th>order_date</th>\n",
              "      <th>sales_qty</th>\n",
              "      <th>sales_amount</th>\n",
              "      <th>currency</th>\n",
              "      <th>user_id</th>\n",
              "      <th>r_id</th>\n",
              "    </tr>\n",
              "  </thead>\n",
              "  <tbody>\n",
              "    <tr>\n",
              "      <th>0</th>\n",
              "      <td>2017-10-10</td>\n",
              "      <td>100</td>\n",
              "      <td>41241</td>\n",
              "      <td>INR</td>\n",
              "      <td>49226</td>\n",
              "      <td>567335.0</td>\n",
              "    </tr>\n",
              "    <tr>\n",
              "      <th>1</th>\n",
              "      <td>2018-05-08</td>\n",
              "      <td>3</td>\n",
              "      <td>-1</td>\n",
              "      <td>INR</td>\n",
              "      <td>77359</td>\n",
              "      <td>531342.0</td>\n",
              "    </tr>\n",
              "    <tr>\n",
              "      <th>2</th>\n",
              "      <td>2018-04-06</td>\n",
              "      <td>1</td>\n",
              "      <td>875</td>\n",
              "      <td>INR</td>\n",
              "      <td>5321</td>\n",
              "      <td>158203.0</td>\n",
              "    </tr>\n",
              "    <tr>\n",
              "      <th>3</th>\n",
              "      <td>2018-04-11</td>\n",
              "      <td>1</td>\n",
              "      <td>583</td>\n",
              "      <td>INR</td>\n",
              "      <td>21343</td>\n",
              "      <td>187912.0</td>\n",
              "    </tr>\n",
              "    <tr>\n",
              "      <th>4</th>\n",
              "      <td>2018-06-18</td>\n",
              "      <td>6</td>\n",
              "      <td>7176</td>\n",
              "      <td>INR</td>\n",
              "      <td>75378</td>\n",
              "      <td>543530.0</td>\n",
              "    </tr>\n",
              "  </tbody>\n",
              "</table>\n",
              "</div>"
            ],
            "text/plain": [
              "   order_date  sales_qty  sales_amount currency  user_id      r_id\n",
              "0  2017-10-10        100         41241      INR    49226  567335.0\n",
              "1  2018-05-08          3            -1      INR    77359  531342.0\n",
              "2  2018-04-06          1           875      INR     5321  158203.0\n",
              "3  2018-04-11          1           583      INR    21343  187912.0\n",
              "4  2018-06-18          6          7176      INR    75378  543530.0"
            ]
          },
          "execution_count": 72,
          "metadata": {},
          "output_type": "execute_result"
        }
      ],
      "source": [
        "#Apagar a coluna 'Unnamed: 0'\n",
        "o.drop('Unnamed: 0', axis=1, inplace=True)\n",
        "\n",
        "#Primeiras linhas da tabela\n",
        "o.head()"
      ]
    },
    {
      "cell_type": "markdown",
      "id": "c7cf1cae",
      "metadata": {},
      "source": [
        "Não existe uma coluna com ma identificação do número daquele pedido. Por isso, será criada uma."
      ]
    },
    {
      "cell_type": "code",
      "execution_count": 73,
      "id": "83000ddb",
      "metadata": {},
      "outputs": [
        {
          "data": {
            "text/plain": [
              "150281"
            ]
          },
          "execution_count": 73,
          "metadata": {},
          "output_type": "execute_result"
        }
      ],
      "source": [
        "#Descobrir número de linha da tabela orders\n",
        "len(o)"
      ]
    },
    {
      "cell_type": "code",
      "execution_count": 74,
      "id": "3c08ac97",
      "metadata": {},
      "outputs": [
        {
          "data": {
            "text/html": [
              "<div>\n",
              "<style scoped>\n",
              "    .dataframe tbody tr th:only-of-type {\n",
              "        vertical-align: middle;\n",
              "    }\n",
              "\n",
              "    .dataframe tbody tr th {\n",
              "        vertical-align: top;\n",
              "    }\n",
              "\n",
              "    .dataframe thead th {\n",
              "        text-align: right;\n",
              "    }\n",
              "</style>\n",
              "<table border=\"1\" class=\"dataframe\">\n",
              "  <thead>\n",
              "    <tr style=\"text-align: right;\">\n",
              "      <th></th>\n",
              "      <th>order_date</th>\n",
              "      <th>sales_qty</th>\n",
              "      <th>sales_amount</th>\n",
              "      <th>currency</th>\n",
              "      <th>user_id</th>\n",
              "      <th>r_id</th>\n",
              "      <th>n_pedidos</th>\n",
              "    </tr>\n",
              "  </thead>\n",
              "  <tbody>\n",
              "    <tr>\n",
              "      <th>0</th>\n",
              "      <td>2017-10-10</td>\n",
              "      <td>100</td>\n",
              "      <td>41241</td>\n",
              "      <td>INR</td>\n",
              "      <td>49226</td>\n",
              "      <td>567335.0</td>\n",
              "      <td>1</td>\n",
              "    </tr>\n",
              "    <tr>\n",
              "      <th>1</th>\n",
              "      <td>2018-05-08</td>\n",
              "      <td>3</td>\n",
              "      <td>-1</td>\n",
              "      <td>INR</td>\n",
              "      <td>77359</td>\n",
              "      <td>531342.0</td>\n",
              "      <td>2</td>\n",
              "    </tr>\n",
              "    <tr>\n",
              "      <th>2</th>\n",
              "      <td>2018-04-06</td>\n",
              "      <td>1</td>\n",
              "      <td>875</td>\n",
              "      <td>INR</td>\n",
              "      <td>5321</td>\n",
              "      <td>158203.0</td>\n",
              "      <td>3</td>\n",
              "    </tr>\n",
              "    <tr>\n",
              "      <th>3</th>\n",
              "      <td>2018-04-11</td>\n",
              "      <td>1</td>\n",
              "      <td>583</td>\n",
              "      <td>INR</td>\n",
              "      <td>21343</td>\n",
              "      <td>187912.0</td>\n",
              "      <td>4</td>\n",
              "    </tr>\n",
              "    <tr>\n",
              "      <th>4</th>\n",
              "      <td>2018-06-18</td>\n",
              "      <td>6</td>\n",
              "      <td>7176</td>\n",
              "      <td>INR</td>\n",
              "      <td>75378</td>\n",
              "      <td>543530.0</td>\n",
              "      <td>5</td>\n",
              "    </tr>\n",
              "  </tbody>\n",
              "</table>\n",
              "</div>"
            ],
            "text/plain": [
              "   order_date  sales_qty  sales_amount currency  user_id      r_id  n_pedidos\n",
              "0  2017-10-10        100         41241      INR    49226  567335.0          1\n",
              "1  2018-05-08          3            -1      INR    77359  531342.0          2\n",
              "2  2018-04-06          1           875      INR     5321  158203.0          3\n",
              "3  2018-04-11          1           583      INR    21343  187912.0          4\n",
              "4  2018-06-18          6          7176      INR    75378  543530.0          5"
            ]
          },
          "execution_count": 74,
          "metadata": {},
          "output_type": "execute_result"
        }
      ],
      "source": [
        "# Criando a nova coluna com valores de 1 a 150281\n",
        "o['n_pedidos'] = range(1, 150282)\n",
        "o.head()"
      ]
    },
    {
      "cell_type": "code",
      "execution_count": 75,
      "id": "fd40d71a",
      "metadata": {},
      "outputs": [
        {
          "data": {
            "text/html": [
              "<div>\n",
              "<style scoped>\n",
              "    .dataframe tbody tr th:only-of-type {\n",
              "        vertical-align: middle;\n",
              "    }\n",
              "\n",
              "    .dataframe tbody tr th {\n",
              "        vertical-align: top;\n",
              "    }\n",
              "\n",
              "    .dataframe thead th {\n",
              "        text-align: right;\n",
              "    }\n",
              "</style>\n",
              "<table border=\"1\" class=\"dataframe\">\n",
              "  <thead>\n",
              "    <tr style=\"text-align: right;\">\n",
              "      <th></th>\n",
              "      <th>n_pedidos</th>\n",
              "      <th>order_date</th>\n",
              "      <th>sales_qty</th>\n",
              "      <th>sales_amount</th>\n",
              "      <th>currency</th>\n",
              "      <th>user_id</th>\n",
              "      <th>r_id</th>\n",
              "    </tr>\n",
              "  </thead>\n",
              "  <tbody>\n",
              "    <tr>\n",
              "      <th>0</th>\n",
              "      <td>1</td>\n",
              "      <td>2017-10-10</td>\n",
              "      <td>100</td>\n",
              "      <td>41241</td>\n",
              "      <td>INR</td>\n",
              "      <td>49226</td>\n",
              "      <td>567335.0</td>\n",
              "    </tr>\n",
              "    <tr>\n",
              "      <th>1</th>\n",
              "      <td>2</td>\n",
              "      <td>2018-05-08</td>\n",
              "      <td>3</td>\n",
              "      <td>-1</td>\n",
              "      <td>INR</td>\n",
              "      <td>77359</td>\n",
              "      <td>531342.0</td>\n",
              "    </tr>\n",
              "    <tr>\n",
              "      <th>2</th>\n",
              "      <td>3</td>\n",
              "      <td>2018-04-06</td>\n",
              "      <td>1</td>\n",
              "      <td>875</td>\n",
              "      <td>INR</td>\n",
              "      <td>5321</td>\n",
              "      <td>158203.0</td>\n",
              "    </tr>\n",
              "    <tr>\n",
              "      <th>3</th>\n",
              "      <td>4</td>\n",
              "      <td>2018-04-11</td>\n",
              "      <td>1</td>\n",
              "      <td>583</td>\n",
              "      <td>INR</td>\n",
              "      <td>21343</td>\n",
              "      <td>187912.0</td>\n",
              "    </tr>\n",
              "    <tr>\n",
              "      <th>4</th>\n",
              "      <td>5</td>\n",
              "      <td>2018-06-18</td>\n",
              "      <td>6</td>\n",
              "      <td>7176</td>\n",
              "      <td>INR</td>\n",
              "      <td>75378</td>\n",
              "      <td>543530.0</td>\n",
              "    </tr>\n",
              "  </tbody>\n",
              "</table>\n",
              "</div>"
            ],
            "text/plain": [
              "   n_pedidos  order_date  sales_qty  sales_amount currency  user_id      r_id\n",
              "0          1  2017-10-10        100         41241      INR    49226  567335.0\n",
              "1          2  2018-05-08          3            -1      INR    77359  531342.0\n",
              "2          3  2018-04-06          1           875      INR     5321  158203.0\n",
              "3          4  2018-04-11          1           583      INR    21343  187912.0\n",
              "4          5  2018-06-18          6          7176      INR    75378  543530.0"
            ]
          },
          "execution_count": 75,
          "metadata": {},
          "output_type": "execute_result"
        }
      ],
      "source": [
        "# Reordenando as colunas para colocar 'n_pedidos' como a primeira\n",
        "o = o[['n_pedidos'] + [n_pedidos for n_pedidos in o.columns if n_pedidos != 'n_pedidos']]\n",
        "o.head()"
      ]
    },
    {
      "cell_type": "markdown",
      "id": "e242831f",
      "metadata": {},
      "source": [
        "### Tabela Restaurant\n",
        "Contém informações sobre os restaurantes disponíveis no app.Tem 12 colunas:<br>\n",
        "- index: índice das linhas<br>\n",
        "- r_id: o identificador exclusivo do restaurante<br>\n",
        "- restaurant_name: nome do restautante (112.819 valores únicos)<br>\n",
        "- city: cidade onde o restaurante está localizado<br>\n",
        "- ranting_restaurant: classificação média do restaurante, com base nas avaliações dos clientes<br>\n",
        "- n_avalicoes: número de avaliações e comentários recebidos pelo restaurante<br>\n",
        "- cost: estimativa do custo médio por pessoa para uma refeição no restaurante<br>\n",
        "- r_cuisine: tipo de cozinha oferecida pelo restaurante<br>\n",
        "- lic_no: número da licença do restaurante<br>\n",
        "- link: link para o site do restaurante (148.541 valores únicos)<br>\n",
        "- address: endereço (148.402 valores únicos)<br>\n",
        "- menu (148541 valores únicos)<br>\n",
        "\n"
      ]
    },
    {
      "cell_type": "code",
      "execution_count": 76,
      "metadata": {},
      "outputs": [
        {
          "data": {
            "text/html": [
              "<div>\n",
              "<style scoped>\n",
              "    .dataframe tbody tr th:only-of-type {\n",
              "        vertical-align: middle;\n",
              "    }\n",
              "\n",
              "    .dataframe tbody tr th {\n",
              "        vertical-align: top;\n",
              "    }\n",
              "\n",
              "    .dataframe thead th {\n",
              "        text-align: right;\n",
              "    }\n",
              "</style>\n",
              "<table border=\"1\" class=\"dataframe\">\n",
              "  <thead>\n",
              "    <tr style=\"text-align: right;\">\n",
              "      <th></th>\n",
              "      <th>r_id</th>\n",
              "      <th>restaurant_name</th>\n",
              "      <th>city</th>\n",
              "      <th>rating_restaurant</th>\n",
              "      <th>n_avaliacoes</th>\n",
              "      <th>cost</th>\n",
              "      <th>r_cuisine</th>\n",
              "      <th>lic_no</th>\n",
              "      <th>link</th>\n",
              "      <th>address</th>\n",
              "      <th>menu</th>\n",
              "    </tr>\n",
              "  </thead>\n",
              "  <tbody>\n",
              "    <tr>\n",
              "      <th>0</th>\n",
              "      <td>567335</td>\n",
              "      <td>AB FOODS POINT</td>\n",
              "      <td>Abohar</td>\n",
              "      <td>--</td>\n",
              "      <td>Too Few Ratings</td>\n",
              "      <td>₹ 200</td>\n",
              "      <td>Beverages,Pizzas</td>\n",
              "      <td>22122652000138</td>\n",
              "      <td>https://www.swiggy.com/restaurants/ab-foods-po...</td>\n",
              "      <td>AB FOODS POINT, NEAR RISHI NARANG DENTAL CLINI...</td>\n",
              "      <td>Menu/567335.json</td>\n",
              "    </tr>\n",
              "    <tr>\n",
              "      <th>1</th>\n",
              "      <td>531342</td>\n",
              "      <td>Janta Sweet House</td>\n",
              "      <td>Abohar</td>\n",
              "      <td>4.4</td>\n",
              "      <td>50+ ratings</td>\n",
              "      <td>₹ 200</td>\n",
              "      <td>Sweets,Bakery</td>\n",
              "      <td>12117201000112</td>\n",
              "      <td>https://www.swiggy.com/restaurants/janta-sweet...</td>\n",
              "      <td>Janta Sweet House, Bazar No.9, Circullar Road,...</td>\n",
              "      <td>Menu/531342.json</td>\n",
              "    </tr>\n",
              "    <tr>\n",
              "      <th>2</th>\n",
              "      <td>158203</td>\n",
              "      <td>theka coffee desi</td>\n",
              "      <td>Abohar</td>\n",
              "      <td>3.8</td>\n",
              "      <td>100+ ratings</td>\n",
              "      <td>₹ 100</td>\n",
              "      <td>Beverages</td>\n",
              "      <td>22121652000190</td>\n",
              "      <td>https://www.swiggy.com/restaurants/theka-coffe...</td>\n",
              "      <td>theka coffee desi, sahtiya sadan road city</td>\n",
              "      <td>Menu/158203.json</td>\n",
              "    </tr>\n",
              "    <tr>\n",
              "      <th>3</th>\n",
              "      <td>187912</td>\n",
              "      <td>Singh Hut</td>\n",
              "      <td>Abohar</td>\n",
              "      <td>3.7</td>\n",
              "      <td>20+ ratings</td>\n",
              "      <td>₹ 250</td>\n",
              "      <td>Fast Food,Indian</td>\n",
              "      <td>22119652000167</td>\n",
              "      <td>https://www.swiggy.com/restaurants/singh-hut-n...</td>\n",
              "      <td>Singh Hut, CIRCULAR ROAD NEAR NEHRU PARK ABOHAR</td>\n",
              "      <td>Menu/187912.json</td>\n",
              "    </tr>\n",
              "    <tr>\n",
              "      <th>4</th>\n",
              "      <td>543530</td>\n",
              "      <td>GRILL MASTERS</td>\n",
              "      <td>Abohar</td>\n",
              "      <td>--</td>\n",
              "      <td>Too Few Ratings</td>\n",
              "      <td>₹ 250</td>\n",
              "      <td>Italian-American,Fast Food</td>\n",
              "      <td>12122201000053</td>\n",
              "      <td>https://www.swiggy.com/restaurants/grill-maste...</td>\n",
              "      <td>GRILL MASTERS, ADA Heights, Abohar - Hanumanga...</td>\n",
              "      <td>Menu/543530.json</td>\n",
              "    </tr>\n",
              "  </tbody>\n",
              "</table>\n",
              "</div>"
            ],
            "text/plain": [
              "     r_id    restaurant_name    city rating_restaurant     n_avaliacoes  \\\n",
              "0  567335     AB FOODS POINT  Abohar                --  Too Few Ratings   \n",
              "1  531342  Janta Sweet House  Abohar               4.4      50+ ratings   \n",
              "2  158203  theka coffee desi  Abohar               3.8     100+ ratings   \n",
              "3  187912          Singh Hut  Abohar               3.7      20+ ratings   \n",
              "4  543530      GRILL MASTERS  Abohar                --  Too Few Ratings   \n",
              "\n",
              "    cost                   r_cuisine          lic_no  \\\n",
              "0  ₹ 200            Beverages,Pizzas  22122652000138   \n",
              "1  ₹ 200               Sweets,Bakery  12117201000112   \n",
              "2  ₹ 100                   Beverages  22121652000190   \n",
              "3  ₹ 250            Fast Food,Indian  22119652000167   \n",
              "4  ₹ 250  Italian-American,Fast Food  12122201000053   \n",
              "\n",
              "                                                link  \\\n",
              "0  https://www.swiggy.com/restaurants/ab-foods-po...   \n",
              "1  https://www.swiggy.com/restaurants/janta-sweet...   \n",
              "2  https://www.swiggy.com/restaurants/theka-coffe...   \n",
              "3  https://www.swiggy.com/restaurants/singh-hut-n...   \n",
              "4  https://www.swiggy.com/restaurants/grill-maste...   \n",
              "\n",
              "                                             address              menu  \n",
              "0  AB FOODS POINT, NEAR RISHI NARANG DENTAL CLINI...  Menu/567335.json  \n",
              "1  Janta Sweet House, Bazar No.9, Circullar Road,...  Menu/531342.json  \n",
              "2         theka coffee desi, sahtiya sadan road city  Menu/158203.json  \n",
              "3    Singh Hut, CIRCULAR ROAD NEAR NEHRU PARK ABOHAR  Menu/187912.json  \n",
              "4  GRILL MASTERS, ADA Heights, Abohar - Hanumanga...  Menu/543530.json  "
            ]
          },
          "execution_count": 76,
          "metadata": {},
          "output_type": "execute_result"
        }
      ],
      "source": [
        "#Primeiras linhas da tabela\n",
        "r.head()\n",
        "#Renomear algumas colunas que possuem o mesmo nome em outra tabela \n",
        "r=r.rename(columns={'id':'r_id'})\n",
        "r=r.rename(columns={'name':'restaurant_name'})\n",
        "r=r.rename(columns={'cuisine':'r_cuisine'})\n",
        "\n",
        "#Renomear algumas colunas para facilitar a análise\n",
        "r=r.rename(columns={'rating':'rating_restaurant'})\n",
        "r=r.rename(columns={'rating_count':'n_avaliacoes'})\n",
        "\n",
        "#Apagar a coluna 'Unnamed: 0'\n",
        "r.drop('Unnamed: 0', axis=1, inplace=True)\n",
        "\n",
        "#Primeiras linhas da tabela\n",
        "r.head()"
      ]
    },
    {
      "cell_type": "markdown",
      "id": "30f07c8f",
      "metadata": {},
      "source": [
        "### Tabela Users\n",
        "Contém informações sobre os usuários cadastrados no aplicativo. Tem 12 colunas:<br>\n",
        "- Index<br>\n",
        "- user_id: identificador exclusivo do usuário<br>\n",
        "- user_name: nome do usuário<br>\n",
        "- email: endereço de email do usuário (85.662 valores únicos)<br>\n",
        "- password: senha<br>\n",
        "- age: idade<br>\n",
        "- gender: gênero do usuário<br>\n",
        "- marital Status: estado civil do usuário<br>\n",
        "- occupation: ocupação do usuário<br>\n",
        "- monthly Income: renda mensal do usuário<br>\n",
        "- educational Qualifications: escolaridade do usuário<br>\n",
        "- family size: número de membros na família<br>\n",
        "\n"
      ]
    },
    {
      "cell_type": "code",
      "execution_count": 77,
      "metadata": {},
      "outputs": [
        {
          "data": {
            "text/html": [
              "<div>\n",
              "<style scoped>\n",
              "    .dataframe tbody tr th:only-of-type {\n",
              "        vertical-align: middle;\n",
              "    }\n",
              "\n",
              "    .dataframe tbody tr th {\n",
              "        vertical-align: top;\n",
              "    }\n",
              "\n",
              "    .dataframe thead th {\n",
              "        text-align: right;\n",
              "    }\n",
              "</style>\n",
              "<table border=\"1\" class=\"dataframe\">\n",
              "  <thead>\n",
              "    <tr style=\"text-align: right;\">\n",
              "      <th></th>\n",
              "      <th>Unnamed: 0</th>\n",
              "      <th>user_id</th>\n",
              "      <th>user_name</th>\n",
              "      <th>email</th>\n",
              "      <th>password</th>\n",
              "      <th>Age</th>\n",
              "      <th>Gender</th>\n",
              "      <th>Marital Status</th>\n",
              "      <th>Occupation</th>\n",
              "      <th>Monthly Income</th>\n",
              "      <th>Educational Qualifications</th>\n",
              "      <th>Family size</th>\n",
              "    </tr>\n",
              "  </thead>\n",
              "  <tbody>\n",
              "    <tr>\n",
              "      <th>0</th>\n",
              "      <td>0</td>\n",
              "      <td>1</td>\n",
              "      <td>Claire Ferguson</td>\n",
              "      <td>fordanthony@example.net</td>\n",
              "      <td>NKz0fWDh!5</td>\n",
              "      <td>20</td>\n",
              "      <td>Female</td>\n",
              "      <td>Single</td>\n",
              "      <td>Student</td>\n",
              "      <td>No Income</td>\n",
              "      <td>Post Graduate</td>\n",
              "      <td>4</td>\n",
              "    </tr>\n",
              "    <tr>\n",
              "      <th>1</th>\n",
              "      <td>1</td>\n",
              "      <td>2</td>\n",
              "      <td>Jennifer Young</td>\n",
              "      <td>ann96@example.com</td>\n",
              "      <td>+i5Q91jt!s</td>\n",
              "      <td>24</td>\n",
              "      <td>Female</td>\n",
              "      <td>Single</td>\n",
              "      <td>Student</td>\n",
              "      <td>Below Rs.10000</td>\n",
              "      <td>Graduate</td>\n",
              "      <td>3</td>\n",
              "    </tr>\n",
              "    <tr>\n",
              "      <th>2</th>\n",
              "      <td>2</td>\n",
              "      <td>3</td>\n",
              "      <td>Jermaine Roberson</td>\n",
              "      <td>uwalker@example.org</td>\n",
              "      <td>eO4GqGusF(</td>\n",
              "      <td>22</td>\n",
              "      <td>Male</td>\n",
              "      <td>Single</td>\n",
              "      <td>Student</td>\n",
              "      <td>Below Rs.10000</td>\n",
              "      <td>Post Graduate</td>\n",
              "      <td>3</td>\n",
              "    </tr>\n",
              "    <tr>\n",
              "      <th>3</th>\n",
              "      <td>3</td>\n",
              "      <td>4</td>\n",
              "      <td>Rachel Carpenter</td>\n",
              "      <td>kimberlypatterson@example.net</td>\n",
              "      <td>d^c7O6odaS</td>\n",
              "      <td>22</td>\n",
              "      <td>Female</td>\n",
              "      <td>Single</td>\n",
              "      <td>Student</td>\n",
              "      <td>No Income</td>\n",
              "      <td>Graduate</td>\n",
              "      <td>6</td>\n",
              "    </tr>\n",
              "    <tr>\n",
              "      <th>4</th>\n",
              "      <td>4</td>\n",
              "      <td>5</td>\n",
              "      <td>Shawn Parker</td>\n",
              "      <td>daniellebennett@example.com</td>\n",
              "      <td>8J#E5RMl1o</td>\n",
              "      <td>22</td>\n",
              "      <td>Male</td>\n",
              "      <td>Single</td>\n",
              "      <td>Student</td>\n",
              "      <td>Below Rs.10000</td>\n",
              "      <td>Post Graduate</td>\n",
              "      <td>4</td>\n",
              "    </tr>\n",
              "  </tbody>\n",
              "</table>\n",
              "</div>"
            ],
            "text/plain": [
              "   Unnamed: 0  user_id          user_name                          email  \\\n",
              "0           0        1    Claire Ferguson        fordanthony@example.net   \n",
              "1           1        2     Jennifer Young              ann96@example.com   \n",
              "2           2        3  Jermaine Roberson            uwalker@example.org   \n",
              "3           3        4   Rachel Carpenter  kimberlypatterson@example.net   \n",
              "4           4        5       Shawn Parker    daniellebennett@example.com   \n",
              "\n",
              "     password  Age  Gender Marital Status Occupation  Monthly Income  \\\n",
              "0  NKz0fWDh!5   20  Female         Single    Student       No Income   \n",
              "1  +i5Q91jt!s   24  Female         Single    Student  Below Rs.10000   \n",
              "2  eO4GqGusF(   22    Male         Single    Student  Below Rs.10000   \n",
              "3  d^c7O6odaS   22  Female         Single    Student       No Income   \n",
              "4  8J#E5RMl1o   22    Male         Single    Student  Below Rs.10000   \n",
              "\n",
              "  Educational Qualifications  Family size  \n",
              "0              Post Graduate            4  \n",
              "1                   Graduate            3  \n",
              "2              Post Graduate            3  \n",
              "3                   Graduate            6  \n",
              "4              Post Graduate            4  "
            ]
          },
          "execution_count": 77,
          "metadata": {},
          "output_type": "execute_result"
        }
      ],
      "source": [
        "u=u.rename(columns={'name':'user_name'})\n",
        "#u.drop('Unnamed: 0', axis=1, inplace=True)\n",
        "u.head()"
      ]
    },
    {
      "cell_type": "markdown",
      "id": "5713b4d7",
      "metadata": {},
      "source": [
        "## Unir as tabelas"
      ]
    },
    {
      "cell_type": "code",
      "execution_count": 78,
      "id": "34321181",
      "metadata": {},
      "outputs": [
        {
          "data": {
            "text/html": [
              "<div>\n",
              "<style scoped>\n",
              "    .dataframe tbody tr th:only-of-type {\n",
              "        vertical-align: middle;\n",
              "    }\n",
              "\n",
              "    .dataframe tbody tr th {\n",
              "        vertical-align: top;\n",
              "    }\n",
              "\n",
              "    .dataframe thead th {\n",
              "        text-align: right;\n",
              "    }\n",
              "</style>\n",
              "<table border=\"1\" class=\"dataframe\">\n",
              "  <thead>\n",
              "    <tr style=\"text-align: right;\">\n",
              "      <th></th>\n",
              "      <th>f_id</th>\n",
              "      <th>item</th>\n",
              "      <th>veg_or_non_veg</th>\n",
              "      <th>menu_id</th>\n",
              "      <th>r_id</th>\n",
              "      <th>m_cuisine</th>\n",
              "      <th>price</th>\n",
              "      <th>n_pedidos</th>\n",
              "      <th>order_date</th>\n",
              "      <th>sales_qty</th>\n",
              "      <th>...</th>\n",
              "      <th>restaurant_name</th>\n",
              "      <th>city</th>\n",
              "      <th>rating_restaurant</th>\n",
              "      <th>n_avaliacoes</th>\n",
              "      <th>cost</th>\n",
              "      <th>r_cuisine</th>\n",
              "      <th>lic_no</th>\n",
              "      <th>link</th>\n",
              "      <th>address</th>\n",
              "      <th>menu</th>\n",
              "    </tr>\n",
              "  </thead>\n",
              "  <tbody>\n",
              "    <tr>\n",
              "      <th>0</th>\n",
              "      <td>fd0</td>\n",
              "      <td>Aloo Tikki Burger</td>\n",
              "      <td>Veg</td>\n",
              "      <td>mn0</td>\n",
              "      <td>567335</td>\n",
              "      <td>Beverages,Pizzas</td>\n",
              "      <td>40.0</td>\n",
              "      <td>1</td>\n",
              "      <td>2017-10-10</td>\n",
              "      <td>100</td>\n",
              "      <td>...</td>\n",
              "      <td>AB FOODS POINT</td>\n",
              "      <td>Abohar</td>\n",
              "      <td>--</td>\n",
              "      <td>Too Few Ratings</td>\n",
              "      <td>₹ 200</td>\n",
              "      <td>Beverages,Pizzas</td>\n",
              "      <td>22122652000138</td>\n",
              "      <td>https://www.swiggy.com/restaurants/ab-foods-po...</td>\n",
              "      <td>AB FOODS POINT, NEAR RISHI NARANG DENTAL CLINI...</td>\n",
              "      <td>Menu/567335.json</td>\n",
              "    </tr>\n",
              "    <tr>\n",
              "      <th>1</th>\n",
              "      <td>fd1</td>\n",
              "      <td>Veg Creamy Burger</td>\n",
              "      <td>Veg</td>\n",
              "      <td>mn1</td>\n",
              "      <td>567335</td>\n",
              "      <td>Beverages,Pizzas</td>\n",
              "      <td>50.0</td>\n",
              "      <td>1</td>\n",
              "      <td>2017-10-10</td>\n",
              "      <td>100</td>\n",
              "      <td>...</td>\n",
              "      <td>AB FOODS POINT</td>\n",
              "      <td>Abohar</td>\n",
              "      <td>--</td>\n",
              "      <td>Too Few Ratings</td>\n",
              "      <td>₹ 200</td>\n",
              "      <td>Beverages,Pizzas</td>\n",
              "      <td>22122652000138</td>\n",
              "      <td>https://www.swiggy.com/restaurants/ab-foods-po...</td>\n",
              "      <td>AB FOODS POINT, NEAR RISHI NARANG DENTAL CLINI...</td>\n",
              "      <td>Menu/567335.json</td>\n",
              "    </tr>\n",
              "    <tr>\n",
              "      <th>2</th>\n",
              "      <td>fd2</td>\n",
              "      <td>Cheese Burst Burger</td>\n",
              "      <td>Veg</td>\n",
              "      <td>mn2</td>\n",
              "      <td>567335</td>\n",
              "      <td>Beverages,Pizzas</td>\n",
              "      <td>65.0</td>\n",
              "      <td>1</td>\n",
              "      <td>2017-10-10</td>\n",
              "      <td>100</td>\n",
              "      <td>...</td>\n",
              "      <td>AB FOODS POINT</td>\n",
              "      <td>Abohar</td>\n",
              "      <td>--</td>\n",
              "      <td>Too Few Ratings</td>\n",
              "      <td>₹ 200</td>\n",
              "      <td>Beverages,Pizzas</td>\n",
              "      <td>22122652000138</td>\n",
              "      <td>https://www.swiggy.com/restaurants/ab-foods-po...</td>\n",
              "      <td>AB FOODS POINT, NEAR RISHI NARANG DENTAL CLINI...</td>\n",
              "      <td>Menu/567335.json</td>\n",
              "    </tr>\n",
              "    <tr>\n",
              "      <th>3</th>\n",
              "      <td>fd3</td>\n",
              "      <td>Paneer Creamy Burger</td>\n",
              "      <td>Veg</td>\n",
              "      <td>mn3</td>\n",
              "      <td>567335</td>\n",
              "      <td>Beverages,Pizzas</td>\n",
              "      <td>80.0</td>\n",
              "      <td>1</td>\n",
              "      <td>2017-10-10</td>\n",
              "      <td>100</td>\n",
              "      <td>...</td>\n",
              "      <td>AB FOODS POINT</td>\n",
              "      <td>Abohar</td>\n",
              "      <td>--</td>\n",
              "      <td>Too Few Ratings</td>\n",
              "      <td>₹ 200</td>\n",
              "      <td>Beverages,Pizzas</td>\n",
              "      <td>22122652000138</td>\n",
              "      <td>https://www.swiggy.com/restaurants/ab-foods-po...</td>\n",
              "      <td>AB FOODS POINT, NEAR RISHI NARANG DENTAL CLINI...</td>\n",
              "      <td>Menu/567335.json</td>\n",
              "    </tr>\n",
              "    <tr>\n",
              "      <th>4</th>\n",
              "      <td>fd4</td>\n",
              "      <td>Maxican Burger</td>\n",
              "      <td>Veg</td>\n",
              "      <td>mn4</td>\n",
              "      <td>567335</td>\n",
              "      <td>Beverages,Pizzas</td>\n",
              "      <td>80.0</td>\n",
              "      <td>1</td>\n",
              "      <td>2017-10-10</td>\n",
              "      <td>100</td>\n",
              "      <td>...</td>\n",
              "      <td>AB FOODS POINT</td>\n",
              "      <td>Abohar</td>\n",
              "      <td>--</td>\n",
              "      <td>Too Few Ratings</td>\n",
              "      <td>₹ 200</td>\n",
              "      <td>Beverages,Pizzas</td>\n",
              "      <td>22122652000138</td>\n",
              "      <td>https://www.swiggy.com/restaurants/ab-foods-po...</td>\n",
              "      <td>AB FOODS POINT, NEAR RISHI NARANG DENTAL CLINI...</td>\n",
              "      <td>Menu/567335.json</td>\n",
              "    </tr>\n",
              "  </tbody>\n",
              "</table>\n",
              "<p>5 rows × 34 columns</p>\n",
              "</div>"
            ],
            "text/plain": [
              "  f_id                  item veg_or_non_veg menu_id    r_id         m_cuisine  \\\n",
              "0  fd0     Aloo Tikki Burger            Veg     mn0  567335  Beverages,Pizzas   \n",
              "1  fd1     Veg Creamy Burger            Veg     mn1  567335  Beverages,Pizzas   \n",
              "2  fd2   Cheese Burst Burger            Veg     mn2  567335  Beverages,Pizzas   \n",
              "3  fd3  Paneer Creamy Burger            Veg     mn3  567335  Beverages,Pizzas   \n",
              "4  fd4        Maxican Burger            Veg     mn4  567335  Beverages,Pizzas   \n",
              "\n",
              "  price  n_pedidos  order_date  sales_qty  ...  restaurant_name    city  \\\n",
              "0  40.0          1  2017-10-10        100  ...   AB FOODS POINT  Abohar   \n",
              "1  50.0          1  2017-10-10        100  ...   AB FOODS POINT  Abohar   \n",
              "2  65.0          1  2017-10-10        100  ...   AB FOODS POINT  Abohar   \n",
              "3  80.0          1  2017-10-10        100  ...   AB FOODS POINT  Abohar   \n",
              "4  80.0          1  2017-10-10        100  ...   AB FOODS POINT  Abohar   \n",
              "\n",
              "   rating_restaurant     n_avaliacoes   cost         r_cuisine  \\\n",
              "0                 --  Too Few Ratings  ₹ 200  Beverages,Pizzas   \n",
              "1                 --  Too Few Ratings  ₹ 200  Beverages,Pizzas   \n",
              "2                 --  Too Few Ratings  ₹ 200  Beverages,Pizzas   \n",
              "3                 --  Too Few Ratings  ₹ 200  Beverages,Pizzas   \n",
              "4                 --  Too Few Ratings  ₹ 200  Beverages,Pizzas   \n",
              "\n",
              "           lic_no                                               link  \\\n",
              "0  22122652000138  https://www.swiggy.com/restaurants/ab-foods-po...   \n",
              "1  22122652000138  https://www.swiggy.com/restaurants/ab-foods-po...   \n",
              "2  22122652000138  https://www.swiggy.com/restaurants/ab-foods-po...   \n",
              "3  22122652000138  https://www.swiggy.com/restaurants/ab-foods-po...   \n",
              "4  22122652000138  https://www.swiggy.com/restaurants/ab-foods-po...   \n",
              "\n",
              "                                             address              menu  \n",
              "0  AB FOODS POINT, NEAR RISHI NARANG DENTAL CLINI...  Menu/567335.json  \n",
              "1  AB FOODS POINT, NEAR RISHI NARANG DENTAL CLINI...  Menu/567335.json  \n",
              "2  AB FOODS POINT, NEAR RISHI NARANG DENTAL CLINI...  Menu/567335.json  \n",
              "3  AB FOODS POINT, NEAR RISHI NARANG DENTAL CLINI...  Menu/567335.json  \n",
              "4  AB FOODS POINT, NEAR RISHI NARANG DENTAL CLINI...  Menu/567335.json  \n",
              "\n",
              "[5 rows x 34 columns]"
            ]
          },
          "execution_count": 78,
          "metadata": {},
          "output_type": "execute_result"
        }
      ],
      "source": [
        "# Unir as tabelas\n",
        "dados = pd.merge(f, m, on='f_id', how='inner')\n",
        "dados = pd.merge(dados, o, on='r_id', how='inner')\n",
        "dados = pd.merge(dados, u, on='user_id', how='inner')\n",
        "dados = pd.merge(dados, r, on='r_id', how='inner')\n",
        "dados.head()"
      ]
    },
    {
      "cell_type": "code",
      "execution_count": 79,
      "id": "7ac3b8f4",
      "metadata": {},
      "outputs": [
        {
          "data": {
            "text/plain": [
              "Index(['f_id', 'item', 'veg_or_non_veg', 'menu_id', 'r_id', 'm_cuisine',\n",
              "       'price', 'n_pedidos', 'order_date', 'sales_qty', 'sales_amount',\n",
              "       'currency', 'user_id', 'Unnamed: 0', 'user_name', 'email', 'password',\n",
              "       'Age', 'Gender', 'Marital Status', 'Occupation', 'Monthly Income',\n",
              "       'Educational Qualifications', 'Family size', 'restaurant_name', 'city',\n",
              "       'rating_restaurant', 'n_avaliacoes', 'cost', 'r_cuisine', 'lic_no',\n",
              "       'link', 'address', 'menu'],\n",
              "      dtype='object')"
            ]
          },
          "execution_count": 79,
          "metadata": {},
          "output_type": "execute_result"
        }
      ],
      "source": [
        "#Verificar o nome das colunas da nova tabela\n",
        "dados.columns\n"
      ]
    },
    {
      "cell_type": "code",
      "execution_count": 80,
      "id": "9298c62f",
      "metadata": {},
      "outputs": [],
      "source": [
        "#Salvar a nova tabela\n",
        "dados.to_csv('Outros_Datasets/tabelas_unidas.csv', index=False)"
      ]
    },
    {
      "cell_type": "markdown",
      "id": "5837385b",
      "metadata": {},
      "source": [
        "### Tabelas unidas \n",
        "A partir de agora será feita a limpeza e transformação usando a nova tabela."
      ]
    },
    {
      "cell_type": "code",
      "execution_count": 81,
      "id": "1449a020",
      "metadata": {},
      "outputs": [
        {
          "name": "stderr",
          "output_type": "stream",
          "text": [
            "C:\\Users\\Usuário\\AppData\\Local\\Temp\\ipykernel_5376\\1580219703.py:3: DtypeWarning: Columns (6) have mixed types. Specify dtype option on import or set low_memory=False.\n",
            "  dados=pd.read_csv('Outros_Datasets/tabelas_unidas.csv')\n"
          ]
        },
        {
          "data": {
            "text/plain": [
              "Index(['f_id', 'item', 'veg_or_non_veg', 'menu_id', 'r_id', 'm_cuisine',\n",
              "       'price', 'n_pedidos', 'order_date', 'sales_qty', 'sales_amount',\n",
              "       'currency', 'user_id', 'Unnamed: 0', 'user_name', 'email', 'password',\n",
              "       'Age', 'Gender', 'Marital Status', 'Occupation', 'Monthly Income',\n",
              "       'Educational Qualifications', 'Family size', 'restaurant_name', 'city',\n",
              "       'rating_restaurant', 'n_avaliacoes', 'cost', 'r_cuisine', 'lic_no',\n",
              "       'link', 'address', 'menu'],\n",
              "      dtype='object')"
            ]
          },
          "execution_count": 81,
          "metadata": {},
          "output_type": "execute_result"
        }
      ],
      "source": [
        "import pandas as pd\n",
        "#Importar a nova tabela\n",
        "dados=pd.read_csv('Outros_Datasets/tabelas_unidas.csv')\n",
        "dados.columns"
      ]
    },
    {
      "cell_type": "markdown",
      "id": "cf590307",
      "metadata": {},
      "source": [
        "## Verificar os dados"
      ]
    },
    {
      "cell_type": "code",
      "execution_count": 82,
      "id": "f64f5167",
      "metadata": {},
      "outputs": [
        {
          "data": {
            "text/html": [
              "<div>\n",
              "<style scoped>\n",
              "    .dataframe tbody tr th:only-of-type {\n",
              "        vertical-align: middle;\n",
              "    }\n",
              "\n",
              "    .dataframe tbody tr th {\n",
              "        vertical-align: top;\n",
              "    }\n",
              "\n",
              "    .dataframe thead th {\n",
              "        text-align: right;\n",
              "    }\n",
              "</style>\n",
              "<table border=\"1\" class=\"dataframe\">\n",
              "  <thead>\n",
              "    <tr style=\"text-align: right;\">\n",
              "      <th></th>\n",
              "      <th>f_id</th>\n",
              "      <th>item</th>\n",
              "      <th>veg_or_non_veg</th>\n",
              "      <th>menu_id</th>\n",
              "      <th>r_id</th>\n",
              "      <th>m_cuisine</th>\n",
              "      <th>price</th>\n",
              "      <th>n_pedidos</th>\n",
              "      <th>order_date</th>\n",
              "      <th>sales_qty</th>\n",
              "      <th>...</th>\n",
              "      <th>restaurant_name</th>\n",
              "      <th>city</th>\n",
              "      <th>rating_restaurant</th>\n",
              "      <th>n_avaliacoes</th>\n",
              "      <th>cost</th>\n",
              "      <th>r_cuisine</th>\n",
              "      <th>lic_no</th>\n",
              "      <th>link</th>\n",
              "      <th>address</th>\n",
              "      <th>menu</th>\n",
              "    </tr>\n",
              "  </thead>\n",
              "  <tbody>\n",
              "    <tr>\n",
              "      <th>0</th>\n",
              "      <td>fd0</td>\n",
              "      <td>Aloo Tikki Burger</td>\n",
              "      <td>Veg</td>\n",
              "      <td>mn0</td>\n",
              "      <td>567335</td>\n",
              "      <td>Beverages,Pizzas</td>\n",
              "      <td>40.0</td>\n",
              "      <td>1</td>\n",
              "      <td>2017-10-10</td>\n",
              "      <td>100</td>\n",
              "      <td>...</td>\n",
              "      <td>AB FOODS POINT</td>\n",
              "      <td>Abohar</td>\n",
              "      <td>--</td>\n",
              "      <td>Too Few Ratings</td>\n",
              "      <td>₹ 200</td>\n",
              "      <td>Beverages,Pizzas</td>\n",
              "      <td>22122652000138</td>\n",
              "      <td>https://www.swiggy.com/restaurants/ab-foods-po...</td>\n",
              "      <td>AB FOODS POINT, NEAR RISHI NARANG DENTAL CLINI...</td>\n",
              "      <td>Menu/567335.json</td>\n",
              "    </tr>\n",
              "    <tr>\n",
              "      <th>1</th>\n",
              "      <td>fd1</td>\n",
              "      <td>Veg Creamy Burger</td>\n",
              "      <td>Veg</td>\n",
              "      <td>mn1</td>\n",
              "      <td>567335</td>\n",
              "      <td>Beverages,Pizzas</td>\n",
              "      <td>50.0</td>\n",
              "      <td>1</td>\n",
              "      <td>2017-10-10</td>\n",
              "      <td>100</td>\n",
              "      <td>...</td>\n",
              "      <td>AB FOODS POINT</td>\n",
              "      <td>Abohar</td>\n",
              "      <td>--</td>\n",
              "      <td>Too Few Ratings</td>\n",
              "      <td>₹ 200</td>\n",
              "      <td>Beverages,Pizzas</td>\n",
              "      <td>22122652000138</td>\n",
              "      <td>https://www.swiggy.com/restaurants/ab-foods-po...</td>\n",
              "      <td>AB FOODS POINT, NEAR RISHI NARANG DENTAL CLINI...</td>\n",
              "      <td>Menu/567335.json</td>\n",
              "    </tr>\n",
              "    <tr>\n",
              "      <th>2</th>\n",
              "      <td>fd2</td>\n",
              "      <td>Cheese Burst Burger</td>\n",
              "      <td>Veg</td>\n",
              "      <td>mn2</td>\n",
              "      <td>567335</td>\n",
              "      <td>Beverages,Pizzas</td>\n",
              "      <td>65.0</td>\n",
              "      <td>1</td>\n",
              "      <td>2017-10-10</td>\n",
              "      <td>100</td>\n",
              "      <td>...</td>\n",
              "      <td>AB FOODS POINT</td>\n",
              "      <td>Abohar</td>\n",
              "      <td>--</td>\n",
              "      <td>Too Few Ratings</td>\n",
              "      <td>₹ 200</td>\n",
              "      <td>Beverages,Pizzas</td>\n",
              "      <td>22122652000138</td>\n",
              "      <td>https://www.swiggy.com/restaurants/ab-foods-po...</td>\n",
              "      <td>AB FOODS POINT, NEAR RISHI NARANG DENTAL CLINI...</td>\n",
              "      <td>Menu/567335.json</td>\n",
              "    </tr>\n",
              "    <tr>\n",
              "      <th>3</th>\n",
              "      <td>fd3</td>\n",
              "      <td>Paneer Creamy Burger</td>\n",
              "      <td>Veg</td>\n",
              "      <td>mn3</td>\n",
              "      <td>567335</td>\n",
              "      <td>Beverages,Pizzas</td>\n",
              "      <td>80.0</td>\n",
              "      <td>1</td>\n",
              "      <td>2017-10-10</td>\n",
              "      <td>100</td>\n",
              "      <td>...</td>\n",
              "      <td>AB FOODS POINT</td>\n",
              "      <td>Abohar</td>\n",
              "      <td>--</td>\n",
              "      <td>Too Few Ratings</td>\n",
              "      <td>₹ 200</td>\n",
              "      <td>Beverages,Pizzas</td>\n",
              "      <td>22122652000138</td>\n",
              "      <td>https://www.swiggy.com/restaurants/ab-foods-po...</td>\n",
              "      <td>AB FOODS POINT, NEAR RISHI NARANG DENTAL CLINI...</td>\n",
              "      <td>Menu/567335.json</td>\n",
              "    </tr>\n",
              "    <tr>\n",
              "      <th>4</th>\n",
              "      <td>fd4</td>\n",
              "      <td>Maxican Burger</td>\n",
              "      <td>Veg</td>\n",
              "      <td>mn4</td>\n",
              "      <td>567335</td>\n",
              "      <td>Beverages,Pizzas</td>\n",
              "      <td>80.0</td>\n",
              "      <td>1</td>\n",
              "      <td>2017-10-10</td>\n",
              "      <td>100</td>\n",
              "      <td>...</td>\n",
              "      <td>AB FOODS POINT</td>\n",
              "      <td>Abohar</td>\n",
              "      <td>--</td>\n",
              "      <td>Too Few Ratings</td>\n",
              "      <td>₹ 200</td>\n",
              "      <td>Beverages,Pizzas</td>\n",
              "      <td>22122652000138</td>\n",
              "      <td>https://www.swiggy.com/restaurants/ab-foods-po...</td>\n",
              "      <td>AB FOODS POINT, NEAR RISHI NARANG DENTAL CLINI...</td>\n",
              "      <td>Menu/567335.json</td>\n",
              "    </tr>\n",
              "  </tbody>\n",
              "</table>\n",
              "<p>5 rows × 34 columns</p>\n",
              "</div>"
            ],
            "text/plain": [
              "  f_id                  item veg_or_non_veg menu_id    r_id         m_cuisine  \\\n",
              "0  fd0     Aloo Tikki Burger            Veg     mn0  567335  Beverages,Pizzas   \n",
              "1  fd1     Veg Creamy Burger            Veg     mn1  567335  Beverages,Pizzas   \n",
              "2  fd2   Cheese Burst Burger            Veg     mn2  567335  Beverages,Pizzas   \n",
              "3  fd3  Paneer Creamy Burger            Veg     mn3  567335  Beverages,Pizzas   \n",
              "4  fd4        Maxican Burger            Veg     mn4  567335  Beverages,Pizzas   \n",
              "\n",
              "  price  n_pedidos  order_date  sales_qty  ...  restaurant_name    city  \\\n",
              "0  40.0          1  2017-10-10        100  ...   AB FOODS POINT  Abohar   \n",
              "1  50.0          1  2017-10-10        100  ...   AB FOODS POINT  Abohar   \n",
              "2  65.0          1  2017-10-10        100  ...   AB FOODS POINT  Abohar   \n",
              "3  80.0          1  2017-10-10        100  ...   AB FOODS POINT  Abohar   \n",
              "4  80.0          1  2017-10-10        100  ...   AB FOODS POINT  Abohar   \n",
              "\n",
              "   rating_restaurant     n_avaliacoes   cost         r_cuisine  \\\n",
              "0                 --  Too Few Ratings  ₹ 200  Beverages,Pizzas   \n",
              "1                 --  Too Few Ratings  ₹ 200  Beverages,Pizzas   \n",
              "2                 --  Too Few Ratings  ₹ 200  Beverages,Pizzas   \n",
              "3                 --  Too Few Ratings  ₹ 200  Beverages,Pizzas   \n",
              "4                 --  Too Few Ratings  ₹ 200  Beverages,Pizzas   \n",
              "\n",
              "           lic_no                                               link  \\\n",
              "0  22122652000138  https://www.swiggy.com/restaurants/ab-foods-po...   \n",
              "1  22122652000138  https://www.swiggy.com/restaurants/ab-foods-po...   \n",
              "2  22122652000138  https://www.swiggy.com/restaurants/ab-foods-po...   \n",
              "3  22122652000138  https://www.swiggy.com/restaurants/ab-foods-po...   \n",
              "4  22122652000138  https://www.swiggy.com/restaurants/ab-foods-po...   \n",
              "\n",
              "                                             address              menu  \n",
              "0  AB FOODS POINT, NEAR RISHI NARANG DENTAL CLINI...  Menu/567335.json  \n",
              "1  AB FOODS POINT, NEAR RISHI NARANG DENTAL CLINI...  Menu/567335.json  \n",
              "2  AB FOODS POINT, NEAR RISHI NARANG DENTAL CLINI...  Menu/567335.json  \n",
              "3  AB FOODS POINT, NEAR RISHI NARANG DENTAL CLINI...  Menu/567335.json  \n",
              "4  AB FOODS POINT, NEAR RISHI NARANG DENTAL CLINI...  Menu/567335.json  \n",
              "\n",
              "[5 rows x 34 columns]"
            ]
          },
          "execution_count": 82,
          "metadata": {},
          "output_type": "execute_result"
        }
      ],
      "source": [
        "dados.head()\n"
      ]
    },
    {
      "cell_type": "code",
      "execution_count": 83,
      "id": "ba923665",
      "metadata": {},
      "outputs": [
        {
          "data": {
            "text/plain": [
              "1195056"
            ]
          },
          "execution_count": 83,
          "metadata": {},
          "output_type": "execute_result"
        }
      ],
      "source": [
        "#Nº de linhas\n",
        "len(dados)\n",
        "#ou\n",
        "#dados.shape[0]"
      ]
    },
    {
      "cell_type": "code",
      "execution_count": 84,
      "id": "eef57672",
      "metadata": {},
      "outputs": [
        {
          "data": {
            "text/plain": [
              "34"
            ]
          },
          "execution_count": 84,
          "metadata": {},
          "output_type": "execute_result"
        }
      ],
      "source": [
        "#Nº de colunas\n",
        "dados.shape[1]"
      ]
    },
    {
      "cell_type": "markdown",
      "id": "1a9897cb",
      "metadata": {},
      "source": [
        "A tabela unida tem 1.195.056 linhas e 32 colunas"
      ]
    },
    {
      "cell_type": "code",
      "execution_count": 34,
      "id": "7e939301",
      "metadata": {},
      "outputs": [
        {
          "data": {
            "text/plain": [
              "array([6, 3, 1, 4, 2, 5], dtype=int64)"
            ]
          },
          "execution_count": 34,
          "metadata": {},
          "output_type": "execute_result"
        }
      ],
      "source": [
        "dados['Family size'].unique()"
      ]
    },
    {
      "cell_type": "markdown",
      "id": "84c4be7e",
      "metadata": {},
      "source": [
        "# Limpeza dos dados"
      ]
    },
    {
      "cell_type": "markdown",
      "id": "8c170d4c",
      "metadata": {},
      "source": [
        "### Valores ausentes"
      ]
    },
    {
      "cell_type": "code",
      "execution_count": 85,
      "id": "d3ce97a5",
      "metadata": {},
      "outputs": [
        {
          "data": {
            "text/html": [
              "<div>\n",
              "<style scoped>\n",
              "    .dataframe tbody tr th:only-of-type {\n",
              "        vertical-align: middle;\n",
              "    }\n",
              "\n",
              "    .dataframe tbody tr th {\n",
              "        vertical-align: top;\n",
              "    }\n",
              "\n",
              "    .dataframe thead th {\n",
              "        text-align: right;\n",
              "    }\n",
              "</style>\n",
              "<table border=\"1\" class=\"dataframe\">\n",
              "  <thead>\n",
              "    <tr style=\"text-align: right;\">\n",
              "      <th></th>\n",
              "      <th>Coluna</th>\n",
              "      <th>Valores Ausentes</th>\n",
              "      <th>Porcentagem Ausentes</th>\n",
              "    </tr>\n",
              "  </thead>\n",
              "  <tbody>\n",
              "    <tr>\n",
              "      <th>item</th>\n",
              "      <td>item</td>\n",
              "      <td>920</td>\n",
              "      <td>0.076984</td>\n",
              "    </tr>\n",
              "    <tr>\n",
              "      <th>veg_or_non_veg</th>\n",
              "      <td>veg_or_non_veg</td>\n",
              "      <td>920</td>\n",
              "      <td>0.076984</td>\n",
              "    </tr>\n",
              "    <tr>\n",
              "      <th>lic_no</th>\n",
              "      <td>lic_no</td>\n",
              "      <td>829</td>\n",
              "      <td>0.069369</td>\n",
              "    </tr>\n",
              "    <tr>\n",
              "      <th>cost</th>\n",
              "      <td>cost</td>\n",
              "      <td>313</td>\n",
              "      <td>0.026191</td>\n",
              "    </tr>\n",
              "    <tr>\n",
              "      <th>restaurant_name</th>\n",
              "      <td>restaurant_name</td>\n",
              "      <td>0</td>\n",
              "      <td>0.000000</td>\n",
              "    </tr>\n",
              "    <tr>\n",
              "      <th>Marital Status</th>\n",
              "      <td>Marital Status</td>\n",
              "      <td>0</td>\n",
              "      <td>0.000000</td>\n",
              "    </tr>\n",
              "    <tr>\n",
              "      <th>Occupation</th>\n",
              "      <td>Occupation</td>\n",
              "      <td>0</td>\n",
              "      <td>0.000000</td>\n",
              "    </tr>\n",
              "    <tr>\n",
              "      <th>Monthly Income</th>\n",
              "      <td>Monthly Income</td>\n",
              "      <td>0</td>\n",
              "      <td>0.000000</td>\n",
              "    </tr>\n",
              "    <tr>\n",
              "      <th>Educational Qualifications</th>\n",
              "      <td>Educational Qualifications</td>\n",
              "      <td>0</td>\n",
              "      <td>0.000000</td>\n",
              "    </tr>\n",
              "    <tr>\n",
              "      <th>Family size</th>\n",
              "      <td>Family size</td>\n",
              "      <td>0</td>\n",
              "      <td>0.000000</td>\n",
              "    </tr>\n",
              "  </tbody>\n",
              "</table>\n",
              "</div>"
            ],
            "text/plain": [
              "                                                Coluna  Valores Ausentes  \\\n",
              "item                                              item               920   \n",
              "veg_or_non_veg                          veg_or_non_veg               920   \n",
              "lic_no                                          lic_no               829   \n",
              "cost                                              cost               313   \n",
              "restaurant_name                        restaurant_name                 0   \n",
              "Marital Status                          Marital Status                 0   \n",
              "Occupation                                  Occupation                 0   \n",
              "Monthly Income                          Monthly Income                 0   \n",
              "Educational Qualifications  Educational Qualifications                 0   \n",
              "Family size                                Family size                 0   \n",
              "\n",
              "                            Porcentagem Ausentes  \n",
              "item                                    0.076984  \n",
              "veg_or_non_veg                          0.076984  \n",
              "lic_no                                  0.069369  \n",
              "cost                                    0.026191  \n",
              "restaurant_name                         0.000000  \n",
              "Marital Status                          0.000000  \n",
              "Occupation                              0.000000  \n",
              "Monthly Income                          0.000000  \n",
              "Educational Qualifications              0.000000  \n",
              "Family size                             0.000000  "
            ]
          },
          "execution_count": 85,
          "metadata": {},
          "output_type": "execute_result"
        }
      ],
      "source": [
        "# Identificando valores ausentes em cada coluna\n",
        "valores_ausentes = dados.isnull().sum()\n",
        "\n",
        "# Calculando a porcentagem de valores ausentes em cada coluna\n",
        "porcentagem_ausentes = (valores_ausentes / len(dados)) * 100\n",
        "\n",
        "# Criando um DataFrame para exibir os resultados\n",
        "resultados = pd.DataFrame({\n",
        "    'Coluna': dados.columns,\n",
        "    'Valores Ausentes': valores_ausentes,\n",
        "    'Porcentagem Ausentes': porcentagem_ausentes\n",
        "})\n",
        "\n",
        "# Ordenando os resultados em ordem decrescente pela porcentagem de valores ausentes\n",
        "resultados_ordenados = resultados.sort_values(by='Porcentagem Ausentes', ascending=False)\n",
        "\n",
        "# Imprimindo os resultados ordenados\n",
        "resultados_ordenados.head(10)\n"
      ]
    },
    {
      "cell_type": "markdown",
      "id": "f5cee084",
      "metadata": {},
      "source": [
        "A colunas item, veg_or_non_veg apresentam 7% de valores ausentes, a coluna lic apresenta 6.9%  e a coluna cost apresenta 2% de valores ausentes. Como esses valores são muito baixos e para estas colunas não faz sentido trocar por zero. As linhas com NAs serão eliminadas."
      ]
    },
    {
      "cell_type": "markdown",
      "id": "3288ca26",
      "metadata": {},
      "source": [
        "**Criar nova tabela**"
      ]
    },
    {
      "cell_type": "code",
      "execution_count": 86,
      "id": "6b84cdbc",
      "metadata": {},
      "outputs": [
        {
          "data": {
            "text/plain": [
              "1192994"
            ]
          },
          "execution_count": 86,
          "metadata": {},
          "output_type": "execute_result"
        }
      ],
      "source": [
        "#Eliminando as linhas com NAs\n",
        "dados1 = dados.dropna()\n",
        "#Nº de linhas\n",
        "len(dados1)\n"
      ]
    },
    {
      "cell_type": "code",
      "execution_count": 87,
      "id": "30893ca9",
      "metadata": {},
      "outputs": [
        {
          "data": {
            "text/plain": [
              "Index(['f_id', 'item', 'veg_or_non_veg', 'menu_id', 'r_id', 'm_cuisine',\n",
              "       'price', 'n_pedidos', 'order_date', 'sales_qty', 'sales_amount',\n",
              "       'currency', 'user_id', 'Unnamed: 0', 'user_name', 'email', 'password',\n",
              "       'Age', 'Gender', 'Marital Status', 'Occupation', 'Monthly Income',\n",
              "       'Educational Qualifications', 'Family size', 'restaurant_name', 'city',\n",
              "       'rating_restaurant', 'n_avaliacoes', 'cost', 'r_cuisine', 'lic_no',\n",
              "       'link', 'address', 'menu'],\n",
              "      dtype='object')"
            ]
          },
          "execution_count": 87,
          "metadata": {},
          "output_type": "execute_result"
        }
      ],
      "source": [
        "dados1.columns"
      ]
    },
    {
      "cell_type": "markdown",
      "id": "1fc63796",
      "metadata": {},
      "source": [
        "### Retirar as linhas com '--' da coluna 'rating_restaurant'\n",
        "Os valores '--' representam o número de restaurantes não avaliados. 43% dos restuarantes não foram avaliados."
      ]
    },
    {
      "cell_type": "code",
      "execution_count": 88,
      "id": "b042ade1",
      "metadata": {},
      "outputs": [
        {
          "data": {
            "text/plain": [
              "array(['--', '3.8', '4.5', '3.6', '3.7', '4.2', '3.9', '3.5', '4.0',\n",
              "       '3.4', '4.3', '4.1', '4.6', '2.8', '3.1', '2.6', '4.4', '2.7',\n",
              "       '3.0', '2.9', '3.2', '3.3', '4.8', '4.7', '5.0', '2.3', '1.9',\n",
              "       '2.1', '2.5', '1.3', '1.8', '2.2', '4.9', '2.4', '1.6', '1.4',\n",
              "       '2.0'], dtype=object)"
            ]
          },
          "execution_count": 88,
          "metadata": {},
          "output_type": "execute_result"
        }
      ],
      "source": [
        "dados1['rating_restaurant'].unique()"
      ]
    },
    {
      "cell_type": "markdown",
      "id": "6440201f",
      "metadata": {},
      "source": [
        "**Criar nova tabela**"
      ]
    },
    {
      "cell_type": "code",
      "execution_count": 89,
      "id": "892decdd",
      "metadata": {},
      "outputs": [],
      "source": [
        "import pandas as pd\n",
        "# Remover linhas que contêm '--' na coluna 'rating_restaurant'\n",
        "dados2 = dados1[dados1['rating_restaurant'].apply(lambda cell: cell != '--')]"
      ]
    },
    {
      "cell_type": "code",
      "execution_count": 29,
      "id": "7f2d4c11",
      "metadata": {},
      "outputs": [
        {
          "data": {
            "text/plain": [
              "array(['3.8', '4.5', '3.6', '3.7', '4.2', '3.9', '3.5', '4.0', '3.4',\n",
              "       '4.3', '4.1', '4.6', '2.8', '3.1', '2.6', '4.4', '2.7', '3.0',\n",
              "       '2.9', '3.2', '3.3', '4.8', '4.7', '5.0', '2.3', '1.9', '2.1',\n",
              "       '2.5', '1.3', '1.8', '2.2', '4.9', '2.4', '1.6', '1.4', '2.0'],\n",
              "      dtype=object)"
            ]
          },
          "execution_count": 29,
          "metadata": {},
          "output_type": "execute_result"
        }
      ],
      "source": [
        "dados2['rating_restaurant'].unique()"
      ]
    },
    {
      "cell_type": "markdown",
      "id": "48b284ba",
      "metadata": {},
      "source": [
        "**Checando número de linhas e colunas**"
      ]
    },
    {
      "cell_type": "code",
      "execution_count": 90,
      "id": "718a78dc",
      "metadata": {},
      "outputs": [
        {
          "data": {
            "text/plain": [
              "34"
            ]
          },
          "execution_count": 90,
          "metadata": {},
          "output_type": "execute_result"
        }
      ],
      "source": [
        "#Número de colunas\n",
        "dados2.shape[1]"
      ]
    },
    {
      "cell_type": "code",
      "execution_count": 91,
      "id": "bc492384",
      "metadata": {},
      "outputs": [
        {
          "name": "stdout",
          "output_type": "stream",
          "text": [
            "O número de linhas antes da retirada de '--' é de 1192994\n",
            "O número de linhas depois da retirada de '--' é de 669882\n"
          ]
        }
      ],
      "source": [
        "#Número de linhas antes da retirada de '--'\n",
        "antes=dados1.shape[0]\n",
        "\n",
        "#Número de linhas depois da retirada de '--'\n",
        "depois=dados2.shape[0]\n",
        "\n",
        "print(f\"O número de linhas antes da retirada de '--' é de {antes:}\" )\n",
        "print(f\"O número de linhas depois da retirada de '--' é de {depois:}\" )"
      ]
    },
    {
      "cell_type": "markdown",
      "id": "8cff1d89",
      "metadata": {},
      "source": [
        "**Porcentagem de linhas com '--'**"
      ]
    },
    {
      "cell_type": "code",
      "execution_count": 92,
      "id": "6d02b41a",
      "metadata": {},
      "outputs": [
        {
          "name": "stdout",
          "output_type": "stream",
          "text": [
            "A porcentagem de linhas removidas é: 43.85%\n"
          ]
        }
      ],
      "source": [
        "total_linhas_original=len(dados1)\n",
        "\n",
        "# Número de linhas removidas\n",
        "linhas_removidas = total_linhas_original - len(dados2)\n",
        "\n",
        "# Calcular a porcentagem\n",
        "porcentagem_removidas = (linhas_removidas / total_linhas_original) * 100\n",
        "\n",
        "# Imprimir a porcentagem\n",
        "print(f\"A porcentagem de linhas removidas é: {porcentagem_removidas:.2f}%\")"
      ]
    },
    {
      "cell_type": "markdown",
      "id": "4958edfe",
      "metadata": {},
      "source": [
        "# Do diretorio markdown\n",
        "![](../Imagens/Limpeza_e_Transformação/card_porcentagem_restaurantes_nao_avaliados.png=100x20)"
      ]
    },
    {
      "cell_type": "markdown",
      "id": "9a2df709",
      "metadata": {},
      "source": [
        "# Mistura\n",
        "[<img src=\"../Imagens/Limpeza_e_Transformação/card_porcentagem_restaurantes_nao_avaliados.png\" width=\"70%\"/>](../Imagens/Limpeza_e_Transformação/card_porcentagem_restaurantes_nao_avaliados.png)"
      ]
    },
    {
      "cell_type": "markdown",
      "id": "90de696b",
      "metadata": {},
      "source": [
        "# Do Github\n",
        "![g](https://github.com/CatarinaAguiar3/Analise_Exploratoria_dos_dados_do_delivery_Zomato/blob/main/Imagens/Limpeza_e_Transforma%C3%A7%C3%A3o/card_porcentagem_restaurantes_nao_avaliados.png)"
      ]
    },
    {
      "cell_type": "markdown",
      "id": "5f910017",
      "metadata": {},
      "source": [
        "<img src=\"https://github.com/CatarinaAguiar3/Analise_Exploratoria_dos_dados_do_delivery_Zomato/blob/main/Imagens/Limpeza_e_Transforma%C3%A7%C3%A3o/card_porcentagem_restaurantes_nao_avaliados.png\" width=\"70%\">"
      ]
    },
    {
      "cell_type": "code",
      "execution_count": 93,
      "id": "2ae01843",
      "metadata": {},
      "outputs": [
        {
          "data": {
            "text/plain": [
              "59"
            ]
          },
          "execution_count": 93,
          "metadata": {},
          "output_type": "execute_result"
        }
      ],
      "source": [
        "#Verificar quantidade de cidades\n",
        "dados2['city'].nunique()"
      ]
    },
    {
      "cell_type": "markdown",
      "id": "0d10547c",
      "metadata": {},
      "source": [
        "### Linhas Duplicadas\n",
        "Verificar e remover as linhas duplicadas"
      ]
    },
    {
      "cell_type": "markdown",
      "id": "0ef32a55",
      "metadata": {},
      "source": [
        "**Criar nova tabela**"
      ]
    },
    {
      "cell_type": "code",
      "execution_count": 98,
      "id": "25ce1e15",
      "metadata": {},
      "outputs": [
        {
          "data": {
            "text/plain": [
              "669882"
            ]
          },
          "execution_count": 98,
          "metadata": {},
          "output_type": "execute_result"
        }
      ],
      "source": [
        "# Remover as linhas duplicadas\n",
        "dados3 = dados2.drop_duplicates()\n",
        "#Nº de linhas\n",
        "len(dados3)\n"
      ]
    },
    {
      "cell_type": "code",
      "execution_count": 99,
      "id": "7a55a730",
      "metadata": {},
      "outputs": [],
      "source": [
        "# Salvando no formato CSV\n",
        "dados3.to_csv('dados3.csv', index=False)"
      ]
    },
    {
      "cell_type": "markdown",
      "id": "d941866c",
      "metadata": {},
      "source": [
        "## Transformação dos dados"
      ]
    },
    {
      "cell_type": "markdown",
      "id": "240ea5ee",
      "metadata": {},
      "source": [
        "### Separar as categorias de restaurantes\n",
        "Existem 862 categorias de restaurantes. E em algumas linhas, as categorias estão agrupadas em duas. Portanto, agora o objetivo é separar estas categorias, deixando-as em uma única linha cada.   "
      ]
    },
    {
      "cell_type": "code",
      "execution_count": 100,
      "id": "1e01a30d",
      "metadata": {},
      "outputs": [
        {
          "data": {
            "text/html": [
              "<div>\n",
              "<style scoped>\n",
              "    .dataframe tbody tr th:only-of-type {\n",
              "        vertical-align: middle;\n",
              "    }\n",
              "\n",
              "    .dataframe tbody tr th {\n",
              "        vertical-align: top;\n",
              "    }\n",
              "\n",
              "    .dataframe thead th {\n",
              "        text-align: right;\n",
              "    }\n",
              "</style>\n",
              "<table border=\"1\" class=\"dataframe\">\n",
              "  <thead>\n",
              "    <tr style=\"text-align: right;\">\n",
              "      <th></th>\n",
              "      <th>r_cuisine</th>\n",
              "    </tr>\n",
              "  </thead>\n",
              "  <tbody>\n",
              "    <tr>\n",
              "      <th>0</th>\n",
              "      <td>Beverages</td>\n",
              "    </tr>\n",
              "    <tr>\n",
              "      <th>1</th>\n",
              "      <td>Desserts</td>\n",
              "    </tr>\n",
              "    <tr>\n",
              "      <th>2</th>\n",
              "      <td>Continental</td>\n",
              "    </tr>\n",
              "    <tr>\n",
              "      <th>3</th>\n",
              "      <td>Bakery,Beverages</td>\n",
              "    </tr>\n",
              "    <tr>\n",
              "      <th>4</th>\n",
              "      <td>Bakery,Pizzas</td>\n",
              "    </tr>\n",
              "    <tr>\n",
              "      <th>...</th>\n",
              "      <td>...</td>\n",
              "    </tr>\n",
              "    <tr>\n",
              "      <th>621</th>\n",
              "      <td>Hyderabadi</td>\n",
              "    </tr>\n",
              "    <tr>\n",
              "      <th>622</th>\n",
              "      <td>Healthy Food,Juices</td>\n",
              "    </tr>\n",
              "    <tr>\n",
              "      <th>623</th>\n",
              "      <td>Thai</td>\n",
              "    </tr>\n",
              "    <tr>\n",
              "      <th>624</th>\n",
              "      <td>Healthy Food,Indian</td>\n",
              "    </tr>\n",
              "    <tr>\n",
              "      <th>625</th>\n",
              "      <td>Continental,Pan-Asian</td>\n",
              "    </tr>\n",
              "  </tbody>\n",
              "</table>\n",
              "<p>626 rows × 1 columns</p>\n",
              "</div>"
            ],
            "text/plain": [
              "                 r_cuisine\n",
              "0                Beverages\n",
              "1                 Desserts\n",
              "2              Continental\n",
              "3         Bakery,Beverages\n",
              "4            Bakery,Pizzas\n",
              "..                     ...\n",
              "621             Hyderabadi\n",
              "622    Healthy Food,Juices\n",
              "623                   Thai\n",
              "624    Healthy Food,Indian\n",
              "625  Continental,Pan-Asian\n",
              "\n",
              "[626 rows x 1 columns]"
            ]
          },
          "execution_count": 100,
          "metadata": {},
          "output_type": "execute_result"
        }
      ],
      "source": [
        "#Verificar valores únicos da coluna r_cuisine \n",
        "df_unicos= pd.DataFrame({'r_cuisine': dados3['r_cuisine'].unique()})\n",
        "df_unicos"
      ]
    },
    {
      "cell_type": "markdown",
      "id": "a2f90cfb",
      "metadata": {},
      "source": [
        "**Criar nova tabela com as novas categorias de restaurante simplificadas**"
      ]
    },
    {
      "cell_type": "code",
      "execution_count": 101,
      "id": "744d9bf0",
      "metadata": {},
      "outputs": [
        {
          "name": "stderr",
          "output_type": "stream",
          "text": [
            "C:\\Users\\Usuário\\AppData\\Local\\Temp\\ipykernel_5376\\2936626114.py:2: DtypeWarning: Columns (29) have mixed types. Specify dtype option on import or set low_memory=False.\n",
            "  dados3=pd.read_csv('Outros_Datasets/dados3.csv')\n"
          ]
        }
      ],
      "source": [
        "import pandas as pd\n",
        "dados3=pd.read_csv('Outros_Datasets/dados3.csv')\n",
        "#Criar uma nova tabela com as novas categorias de restaurante\n",
        "dados4=dados3\n",
        "#Remover os valores depois da vírgula\n",
        "dados4['r_cuisine1'] = dados4['r_cuisine'].apply(lambda x: x.split(',')[0])\n"
      ]
    },
    {
      "cell_type": "code",
      "execution_count": 102,
      "id": "ac89c591",
      "metadata": {},
      "outputs": [
        {
          "data": {
            "text/html": [
              "<div>\n",
              "<style scoped>\n",
              "    .dataframe tbody tr th:only-of-type {\n",
              "        vertical-align: middle;\n",
              "    }\n",
              "\n",
              "    .dataframe tbody tr th {\n",
              "        vertical-align: top;\n",
              "    }\n",
              "\n",
              "    .dataframe thead th {\n",
              "        text-align: right;\n",
              "    }\n",
              "</style>\n",
              "<table border=\"1\" class=\"dataframe\">\n",
              "  <thead>\n",
              "    <tr style=\"text-align: right;\">\n",
              "      <th></th>\n",
              "      <th>f_id</th>\n",
              "      <th>item</th>\n",
              "      <th>veg_or_non_veg</th>\n",
              "      <th>menu_id</th>\n",
              "      <th>r_id</th>\n",
              "      <th>m_cuisine</th>\n",
              "      <th>price</th>\n",
              "      <th>n_pedidos</th>\n",
              "      <th>order_date</th>\n",
              "      <th>sales_qty</th>\n",
              "      <th>...</th>\n",
              "      <th>city</th>\n",
              "      <th>rating_restaurant</th>\n",
              "      <th>n_avaliacoes</th>\n",
              "      <th>cost</th>\n",
              "      <th>r_cuisine</th>\n",
              "      <th>lic_no</th>\n",
              "      <th>link</th>\n",
              "      <th>address</th>\n",
              "      <th>menu</th>\n",
              "      <th>r_cuisine1</th>\n",
              "    </tr>\n",
              "  </thead>\n",
              "  <tbody>\n",
              "    <tr>\n",
              "      <th>0</th>\n",
              "      <td>fd0</td>\n",
              "      <td>Aloo Tikki Burger</td>\n",
              "      <td>Veg</td>\n",
              "      <td>mn328</td>\n",
              "      <td>158203</td>\n",
              "      <td>Beverages</td>\n",
              "      <td>65.0</td>\n",
              "      <td>3</td>\n",
              "      <td>2018-04-06</td>\n",
              "      <td>1</td>\n",
              "      <td>...</td>\n",
              "      <td>Abohar</td>\n",
              "      <td>3.8</td>\n",
              "      <td>100+ ratings</td>\n",
              "      <td>₹ 100</td>\n",
              "      <td>Beverages</td>\n",
              "      <td>22121652000190</td>\n",
              "      <td>https://www.swiggy.com/restaurants/theka-coffe...</td>\n",
              "      <td>theka coffee desi, sahtiya sadan road city</td>\n",
              "      <td>Menu/158203.json</td>\n",
              "      <td>Beverages</td>\n",
              "    </tr>\n",
              "    <tr>\n",
              "      <th>1</th>\n",
              "      <td>fd0</td>\n",
              "      <td>Aloo Tikki Burger</td>\n",
              "      <td>Veg</td>\n",
              "      <td>mn449</td>\n",
              "      <td>158203</td>\n",
              "      <td>Beverages</td>\n",
              "      <td>65.0</td>\n",
              "      <td>3</td>\n",
              "      <td>2018-04-06</td>\n",
              "      <td>1</td>\n",
              "      <td>...</td>\n",
              "      <td>Abohar</td>\n",
              "      <td>3.8</td>\n",
              "      <td>100+ ratings</td>\n",
              "      <td>₹ 100</td>\n",
              "      <td>Beverages</td>\n",
              "      <td>22121652000190</td>\n",
              "      <td>https://www.swiggy.com/restaurants/theka-coffe...</td>\n",
              "      <td>theka coffee desi, sahtiya sadan road city</td>\n",
              "      <td>Menu/158203.json</td>\n",
              "      <td>Beverages</td>\n",
              "    </tr>\n",
              "    <tr>\n",
              "      <th>2</th>\n",
              "      <td>fd35</td>\n",
              "      <td>Paneer Tikka Sandwich</td>\n",
              "      <td>Veg</td>\n",
              "      <td>mn333</td>\n",
              "      <td>158203</td>\n",
              "      <td>Beverages</td>\n",
              "      <td>145.0</td>\n",
              "      <td>3</td>\n",
              "      <td>2018-04-06</td>\n",
              "      <td>1</td>\n",
              "      <td>...</td>\n",
              "      <td>Abohar</td>\n",
              "      <td>3.8</td>\n",
              "      <td>100+ ratings</td>\n",
              "      <td>₹ 100</td>\n",
              "      <td>Beverages</td>\n",
              "      <td>22121652000190</td>\n",
              "      <td>https://www.swiggy.com/restaurants/theka-coffe...</td>\n",
              "      <td>theka coffee desi, sahtiya sadan road city</td>\n",
              "      <td>Menu/158203.json</td>\n",
              "      <td>Beverages</td>\n",
              "    </tr>\n",
              "  </tbody>\n",
              "</table>\n",
              "<p>3 rows × 34 columns</p>\n",
              "</div>"
            ],
            "text/plain": [
              "   f_id                   item veg_or_non_veg menu_id    r_id  m_cuisine  \\\n",
              "0   fd0      Aloo Tikki Burger            Veg   mn328  158203  Beverages   \n",
              "1   fd0      Aloo Tikki Burger            Veg   mn449  158203  Beverages   \n",
              "2  fd35  Paneer Tikka Sandwich            Veg   mn333  158203  Beverages   \n",
              "\n",
              "   price  n_pedidos  order_date  sales_qty  ...    city rating_restaurant  \\\n",
              "0   65.0          3  2018-04-06          1  ...  Abohar               3.8   \n",
              "1   65.0          3  2018-04-06          1  ...  Abohar               3.8   \n",
              "2  145.0          3  2018-04-06          1  ...  Abohar               3.8   \n",
              "\n",
              "   n_avaliacoes   cost  r_cuisine          lic_no  \\\n",
              "0  100+ ratings  ₹ 100  Beverages  22121652000190   \n",
              "1  100+ ratings  ₹ 100  Beverages  22121652000190   \n",
              "2  100+ ratings  ₹ 100  Beverages  22121652000190   \n",
              "\n",
              "                                                link  \\\n",
              "0  https://www.swiggy.com/restaurants/theka-coffe...   \n",
              "1  https://www.swiggy.com/restaurants/theka-coffe...   \n",
              "2  https://www.swiggy.com/restaurants/theka-coffe...   \n",
              "\n",
              "                                      address              menu r_cuisine1  \n",
              "0  theka coffee desi, sahtiya sadan road city  Menu/158203.json  Beverages  \n",
              "1  theka coffee desi, sahtiya sadan road city  Menu/158203.json  Beverages  \n",
              "2  theka coffee desi, sahtiya sadan road city  Menu/158203.json  Beverages  \n",
              "\n",
              "[3 rows x 34 columns]"
            ]
          },
          "execution_count": 102,
          "metadata": {},
          "output_type": "execute_result"
        }
      ],
      "source": [
        "dados4.head(3)"
      ]
    },
    {
      "cell_type": "code",
      "execution_count": 103,
      "id": "f69409e7",
      "metadata": {},
      "outputs": [
        {
          "data": {
            "text/html": [
              "<div>\n",
              "<style scoped>\n",
              "    .dataframe tbody tr th:only-of-type {\n",
              "        vertical-align: middle;\n",
              "    }\n",
              "\n",
              "    .dataframe tbody tr th {\n",
              "        vertical-align: top;\n",
              "    }\n",
              "\n",
              "    .dataframe thead th {\n",
              "        text-align: right;\n",
              "    }\n",
              "</style>\n",
              "<table border=\"1\" class=\"dataframe\">\n",
              "  <thead>\n",
              "    <tr style=\"text-align: right;\">\n",
              "      <th></th>\n",
              "      <th>r_cuisine1</th>\n",
              "    </tr>\n",
              "  </thead>\n",
              "  <tbody>\n",
              "    <tr>\n",
              "      <th>0</th>\n",
              "      <td>Beverages</td>\n",
              "    </tr>\n",
              "    <tr>\n",
              "      <th>1</th>\n",
              "      <td>Desserts</td>\n",
              "    </tr>\n",
              "    <tr>\n",
              "      <th>2</th>\n",
              "      <td>Continental</td>\n",
              "    </tr>\n",
              "    <tr>\n",
              "      <th>3</th>\n",
              "      <td>Bakery</td>\n",
              "    </tr>\n",
              "    <tr>\n",
              "      <th>4</th>\n",
              "      <td>Pizzas</td>\n",
              "    </tr>\n",
              "    <tr>\n",
              "      <th>...</th>\n",
              "      <td>...</td>\n",
              "    </tr>\n",
              "    <tr>\n",
              "      <th>65</th>\n",
              "      <td>Assamese</td>\n",
              "    </tr>\n",
              "    <tr>\n",
              "      <th>66</th>\n",
              "      <td>Afghani</td>\n",
              "    </tr>\n",
              "    <tr>\n",
              "      <th>67</th>\n",
              "      <td>Mediterranean</td>\n",
              "    </tr>\n",
              "    <tr>\n",
              "      <th>68</th>\n",
              "      <td>Paan</td>\n",
              "    </tr>\n",
              "    <tr>\n",
              "      <th>69</th>\n",
              "      <td>Tex-Mex</td>\n",
              "    </tr>\n",
              "  </tbody>\n",
              "</table>\n",
              "<p>70 rows × 1 columns</p>\n",
              "</div>"
            ],
            "text/plain": [
              "       r_cuisine1\n",
              "0       Beverages\n",
              "1        Desserts\n",
              "2     Continental\n",
              "3          Bakery\n",
              "4          Pizzas\n",
              "..            ...\n",
              "65       Assamese\n",
              "66        Afghani\n",
              "67  Mediterranean\n",
              "68           Paan\n",
              "69        Tex-Mex\n",
              "\n",
              "[70 rows x 1 columns]"
            ]
          },
          "execution_count": 103,
          "metadata": {},
          "output_type": "execute_result"
        }
      ],
      "source": [
        "#Verificar valores unicos de tipo de comida do restaurante\n",
        "df_unicos= pd.DataFrame({'r_cuisine1': dados4['r_cuisine1'].unique()})\n",
        "df_unicos"
      ]
    },
    {
      "cell_type": "code",
      "execution_count": 104,
      "id": "0ca8f5d3",
      "metadata": {},
      "outputs": [
        {
          "data": {
            "text/plain": [
              "669882"
            ]
          },
          "execution_count": 104,
          "metadata": {},
          "output_type": "execute_result"
        }
      ],
      "source": [
        "pd.DataFrame({'user_id': dados4['user_id'].unique()})\n",
        "#5.148 clientes\n",
        "\n",
        "len(dados4)\n",
        "#669.882 linhas"
      ]
    },
    {
      "cell_type": "code",
      "execution_count": 106,
      "id": "ddf59983",
      "metadata": {},
      "outputs": [
        {
          "name": "stdout",
          "output_type": "stream",
          "text": [
            "A quantidade de r_cuisine ANTES era de 626\n",
            "A quantidade de r_cuisine DEPOIS é de 70\n"
          ]
        }
      ],
      "source": [
        "#Verificar quantidade de valores únicos da coluna 'r_cuisine' e 'r_cuisine1\" na tabela dados2\n",
        "antes=dados4['r_cuisine'].nunique()\n",
        "depois=dados4['r_cuisine1'].nunique()\n",
        "\n",
        "print(\"A quantidade de r_cuisine ANTES era de\", antes)\n",
        "print(\"A quantidade de r_cuisine DEPOIS é de\", depois)"
      ]
    },
    {
      "cell_type": "markdown",
      "id": "566f42e5",
      "metadata": {},
      "source": [
        "<img src=\"../Imagens/Limpeza_e_Transformação/card_r_cuisine_de_76_para_70_ e_city_de_62_para_69.png\" width='100%'>"
      ]
    },
    {
      "cell_type": "markdown",
      "id": "0a05e997",
      "metadata": {},
      "source": [
        "### Separar os tipos de cozinha a que pertence o item do menu (m_cuisine)"
      ]
    },
    {
      "cell_type": "code",
      "execution_count": 107,
      "id": "34304763",
      "metadata": {},
      "outputs": [
        {
          "data": {
            "text/html": [
              "<div>\n",
              "<style scoped>\n",
              "    .dataframe tbody tr th:only-of-type {\n",
              "        vertical-align: middle;\n",
              "    }\n",
              "\n",
              "    .dataframe tbody tr th {\n",
              "        vertical-align: top;\n",
              "    }\n",
              "\n",
              "    .dataframe thead th {\n",
              "        text-align: right;\n",
              "    }\n",
              "</style>\n",
              "<table border=\"1\" class=\"dataframe\">\n",
              "  <thead>\n",
              "    <tr style=\"text-align: right;\">\n",
              "      <th></th>\n",
              "      <th>m_cuisine</th>\n",
              "    </tr>\n",
              "  </thead>\n",
              "  <tbody>\n",
              "    <tr>\n",
              "      <th>0</th>\n",
              "      <td>Beverages</td>\n",
              "    </tr>\n",
              "    <tr>\n",
              "      <th>1</th>\n",
              "      <td>Desserts</td>\n",
              "    </tr>\n",
              "    <tr>\n",
              "      <th>2</th>\n",
              "      <td>Continental</td>\n",
              "    </tr>\n",
              "    <tr>\n",
              "      <th>3</th>\n",
              "      <td>Bakery,Beverages</td>\n",
              "    </tr>\n",
              "    <tr>\n",
              "      <th>4</th>\n",
              "      <td>Bakery,Pizzas</td>\n",
              "    </tr>\n",
              "    <tr>\n",
              "      <th>...</th>\n",
              "      <td>...</td>\n",
              "    </tr>\n",
              "    <tr>\n",
              "      <th>621</th>\n",
              "      <td>Hyderabadi</td>\n",
              "    </tr>\n",
              "    <tr>\n",
              "      <th>622</th>\n",
              "      <td>Healthy Food,Juices</td>\n",
              "    </tr>\n",
              "    <tr>\n",
              "      <th>623</th>\n",
              "      <td>Thai</td>\n",
              "    </tr>\n",
              "    <tr>\n",
              "      <th>624</th>\n",
              "      <td>Healthy Food,Indian</td>\n",
              "    </tr>\n",
              "    <tr>\n",
              "      <th>625</th>\n",
              "      <td>Continental,Pan-Asian</td>\n",
              "    </tr>\n",
              "  </tbody>\n",
              "</table>\n",
              "<p>626 rows × 1 columns</p>\n",
              "</div>"
            ],
            "text/plain": [
              "                 m_cuisine\n",
              "0                Beverages\n",
              "1                 Desserts\n",
              "2              Continental\n",
              "3         Bakery,Beverages\n",
              "4            Bakery,Pizzas\n",
              "..                     ...\n",
              "621             Hyderabadi\n",
              "622    Healthy Food,Juices\n",
              "623                   Thai\n",
              "624    Healthy Food,Indian\n",
              "625  Continental,Pan-Asian\n",
              "\n",
              "[626 rows x 1 columns]"
            ]
          },
          "execution_count": 107,
          "metadata": {},
          "output_type": "execute_result"
        }
      ],
      "source": [
        "#Verificar valores únicos da coluna r_cuisine \n",
        "df_unicos1= pd.DataFrame({'m_cuisine': dados4['m_cuisine'].unique()})\n",
        "df_unicos1"
      ]
    },
    {
      "cell_type": "code",
      "execution_count": 108,
      "id": "adc0fb64",
      "metadata": {},
      "outputs": [],
      "source": [
        "#Remover os valores depois da vírgula\n",
        "dados4['m_cuisine1'] = dados4['m_cuisine'].apply(lambda x: x.split(',')[0])"
      ]
    },
    {
      "cell_type": "code",
      "execution_count": 109,
      "id": "9c54dfe3",
      "metadata": {},
      "outputs": [
        {
          "data": {
            "text/html": [
              "<div>\n",
              "<style scoped>\n",
              "    .dataframe tbody tr th:only-of-type {\n",
              "        vertical-align: middle;\n",
              "    }\n",
              "\n",
              "    .dataframe tbody tr th {\n",
              "        vertical-align: top;\n",
              "    }\n",
              "\n",
              "    .dataframe thead th {\n",
              "        text-align: right;\n",
              "    }\n",
              "</style>\n",
              "<table border=\"1\" class=\"dataframe\">\n",
              "  <thead>\n",
              "    <tr style=\"text-align: right;\">\n",
              "      <th></th>\n",
              "      <th>m_cuisine</th>\n",
              "    </tr>\n",
              "  </thead>\n",
              "  <tbody>\n",
              "    <tr>\n",
              "      <th>0</th>\n",
              "      <td>Beverages</td>\n",
              "    </tr>\n",
              "    <tr>\n",
              "      <th>1</th>\n",
              "      <td>Desserts</td>\n",
              "    </tr>\n",
              "    <tr>\n",
              "      <th>2</th>\n",
              "      <td>Continental</td>\n",
              "    </tr>\n",
              "    <tr>\n",
              "      <th>3</th>\n",
              "      <td>Bakery</td>\n",
              "    </tr>\n",
              "    <tr>\n",
              "      <th>4</th>\n",
              "      <td>Pizzas</td>\n",
              "    </tr>\n",
              "    <tr>\n",
              "      <th>...</th>\n",
              "      <td>...</td>\n",
              "    </tr>\n",
              "    <tr>\n",
              "      <th>65</th>\n",
              "      <td>Assamese</td>\n",
              "    </tr>\n",
              "    <tr>\n",
              "      <th>66</th>\n",
              "      <td>Afghani</td>\n",
              "    </tr>\n",
              "    <tr>\n",
              "      <th>67</th>\n",
              "      <td>Mediterranean</td>\n",
              "    </tr>\n",
              "    <tr>\n",
              "      <th>68</th>\n",
              "      <td>Paan</td>\n",
              "    </tr>\n",
              "    <tr>\n",
              "      <th>69</th>\n",
              "      <td>Tex-Mex</td>\n",
              "    </tr>\n",
              "  </tbody>\n",
              "</table>\n",
              "<p>70 rows × 1 columns</p>\n",
              "</div>"
            ],
            "text/plain": [
              "        m_cuisine\n",
              "0       Beverages\n",
              "1        Desserts\n",
              "2     Continental\n",
              "3          Bakery\n",
              "4          Pizzas\n",
              "..            ...\n",
              "65       Assamese\n",
              "66        Afghani\n",
              "67  Mediterranean\n",
              "68           Paan\n",
              "69        Tex-Mex\n",
              "\n",
              "[70 rows x 1 columns]"
            ]
          },
          "execution_count": 109,
          "metadata": {},
          "output_type": "execute_result"
        }
      ],
      "source": [
        "#Verificar valores únicos da coluna r_cuisine \n",
        "df_unicos11= pd.DataFrame({'m_cuisine': dados4['m_cuisine1'].unique()})\n",
        "df_unicos11"
      ]
    },
    {
      "cell_type": "code",
      "execution_count": 110,
      "id": "4c34d7a7",
      "metadata": {},
      "outputs": [],
      "source": [
        "# Salvando no formato CSV\n",
        "dados4.to_csv('Outros_datasets/dados4.csv', index=False)"
      ]
    },
    {
      "cell_type": "markdown",
      "id": "297a085e",
      "metadata": {},
      "source": [
        "### Verificar tipo de dados"
      ]
    },
    {
      "cell_type": "code",
      "execution_count": 112,
      "id": "a346e2f5",
      "metadata": {},
      "outputs": [
        {
          "name": "stderr",
          "output_type": "stream",
          "text": [
            "C:\\Users\\Usuário\\AppData\\Local\\Temp\\ipykernel_5376\\380544932.py:2: DtypeWarning: Columns (29) have mixed types. Specify dtype option on import or set low_memory=False.\n",
            "  dados4= pd.read_csv(\"Outros_datasets/dados4.csv\")\n"
          ]
        }
      ],
      "source": [
        "import pandas as pd\n",
        "dados4= pd.read_csv(\"Outros_datasets/dados4.csv\")"
      ]
    },
    {
      "cell_type": "code",
      "execution_count": 113,
      "id": "73e85b65",
      "metadata": {},
      "outputs": [
        {
          "data": {
            "text/html": [
              "<div>\n",
              "<style scoped>\n",
              "    .dataframe tbody tr th:only-of-type {\n",
              "        vertical-align: middle;\n",
              "    }\n",
              "\n",
              "    .dataframe tbody tr th {\n",
              "        vertical-align: top;\n",
              "    }\n",
              "\n",
              "    .dataframe thead th {\n",
              "        text-align: right;\n",
              "    }\n",
              "</style>\n",
              "<table border=\"1\" class=\"dataframe\">\n",
              "  <thead>\n",
              "    <tr style=\"text-align: right;\">\n",
              "      <th></th>\n",
              "      <th>f_id</th>\n",
              "      <th>item</th>\n",
              "      <th>veg_or_non_veg</th>\n",
              "      <th>menu_id</th>\n",
              "      <th>r_id</th>\n",
              "      <th>m_cuisine</th>\n",
              "      <th>price</th>\n",
              "      <th>n_pedidos</th>\n",
              "      <th>order_date</th>\n",
              "      <th>sales_qty</th>\n",
              "      <th>...</th>\n",
              "      <th>rating_restaurant</th>\n",
              "      <th>n_avaliacoes</th>\n",
              "      <th>cost</th>\n",
              "      <th>r_cuisine</th>\n",
              "      <th>lic_no</th>\n",
              "      <th>link</th>\n",
              "      <th>address</th>\n",
              "      <th>menu</th>\n",
              "      <th>r_cuisine1</th>\n",
              "      <th>m_cuisine1</th>\n",
              "    </tr>\n",
              "  </thead>\n",
              "  <tbody>\n",
              "    <tr>\n",
              "      <th>0</th>\n",
              "      <td>fd0</td>\n",
              "      <td>Aloo Tikki Burger</td>\n",
              "      <td>Veg</td>\n",
              "      <td>mn328</td>\n",
              "      <td>158203</td>\n",
              "      <td>Beverages</td>\n",
              "      <td>65.0</td>\n",
              "      <td>3</td>\n",
              "      <td>2018-04-06</td>\n",
              "      <td>1</td>\n",
              "      <td>...</td>\n",
              "      <td>3.8</td>\n",
              "      <td>100+ ratings</td>\n",
              "      <td>₹ 100</td>\n",
              "      <td>Beverages</td>\n",
              "      <td>22121652000190</td>\n",
              "      <td>https://www.swiggy.com/restaurants/theka-coffe...</td>\n",
              "      <td>theka coffee desi, sahtiya sadan road city</td>\n",
              "      <td>Menu/158203.json</td>\n",
              "      <td>Beverages</td>\n",
              "      <td>Beverages</td>\n",
              "    </tr>\n",
              "    <tr>\n",
              "      <th>1</th>\n",
              "      <td>fd0</td>\n",
              "      <td>Aloo Tikki Burger</td>\n",
              "      <td>Veg</td>\n",
              "      <td>mn449</td>\n",
              "      <td>158203</td>\n",
              "      <td>Beverages</td>\n",
              "      <td>65.0</td>\n",
              "      <td>3</td>\n",
              "      <td>2018-04-06</td>\n",
              "      <td>1</td>\n",
              "      <td>...</td>\n",
              "      <td>3.8</td>\n",
              "      <td>100+ ratings</td>\n",
              "      <td>₹ 100</td>\n",
              "      <td>Beverages</td>\n",
              "      <td>22121652000190</td>\n",
              "      <td>https://www.swiggy.com/restaurants/theka-coffe...</td>\n",
              "      <td>theka coffee desi, sahtiya sadan road city</td>\n",
              "      <td>Menu/158203.json</td>\n",
              "      <td>Beverages</td>\n",
              "      <td>Beverages</td>\n",
              "    </tr>\n",
              "    <tr>\n",
              "      <th>2</th>\n",
              "      <td>fd35</td>\n",
              "      <td>Paneer Tikka Sandwich</td>\n",
              "      <td>Veg</td>\n",
              "      <td>mn333</td>\n",
              "      <td>158203</td>\n",
              "      <td>Beverages</td>\n",
              "      <td>145.0</td>\n",
              "      <td>3</td>\n",
              "      <td>2018-04-06</td>\n",
              "      <td>1</td>\n",
              "      <td>...</td>\n",
              "      <td>3.8</td>\n",
              "      <td>100+ ratings</td>\n",
              "      <td>₹ 100</td>\n",
              "      <td>Beverages</td>\n",
              "      <td>22121652000190</td>\n",
              "      <td>https://www.swiggy.com/restaurants/theka-coffe...</td>\n",
              "      <td>theka coffee desi, sahtiya sadan road city</td>\n",
              "      <td>Menu/158203.json</td>\n",
              "      <td>Beverages</td>\n",
              "      <td>Beverages</td>\n",
              "    </tr>\n",
              "  </tbody>\n",
              "</table>\n",
              "<p>3 rows × 35 columns</p>\n",
              "</div>"
            ],
            "text/plain": [
              "   f_id                   item veg_or_non_veg menu_id    r_id  m_cuisine  \\\n",
              "0   fd0      Aloo Tikki Burger            Veg   mn328  158203  Beverages   \n",
              "1   fd0      Aloo Tikki Burger            Veg   mn449  158203  Beverages   \n",
              "2  fd35  Paneer Tikka Sandwich            Veg   mn333  158203  Beverages   \n",
              "\n",
              "   price  n_pedidos  order_date  sales_qty  ...  rating_restaurant  \\\n",
              "0   65.0          3  2018-04-06          1  ...                3.8   \n",
              "1   65.0          3  2018-04-06          1  ...                3.8   \n",
              "2  145.0          3  2018-04-06          1  ...                3.8   \n",
              "\n",
              "   n_avaliacoes   cost  r_cuisine          lic_no  \\\n",
              "0  100+ ratings  ₹ 100  Beverages  22121652000190   \n",
              "1  100+ ratings  ₹ 100  Beverages  22121652000190   \n",
              "2  100+ ratings  ₹ 100  Beverages  22121652000190   \n",
              "\n",
              "                                                link  \\\n",
              "0  https://www.swiggy.com/restaurants/theka-coffe...   \n",
              "1  https://www.swiggy.com/restaurants/theka-coffe...   \n",
              "2  https://www.swiggy.com/restaurants/theka-coffe...   \n",
              "\n",
              "                                      address              menu r_cuisine1  \\\n",
              "0  theka coffee desi, sahtiya sadan road city  Menu/158203.json  Beverages   \n",
              "1  theka coffee desi, sahtiya sadan road city  Menu/158203.json  Beverages   \n",
              "2  theka coffee desi, sahtiya sadan road city  Menu/158203.json  Beverages   \n",
              "\n",
              "  m_cuisine1  \n",
              "0  Beverages  \n",
              "1  Beverages  \n",
              "2  Beverages  \n",
              "\n",
              "[3 rows x 35 columns]"
            ]
          },
          "execution_count": 113,
          "metadata": {},
          "output_type": "execute_result"
        }
      ],
      "source": [
        "dados4.head(3)"
      ]
    },
    {
      "cell_type": "code",
      "execution_count": 114,
      "id": "214a9e2a",
      "metadata": {},
      "outputs": [
        {
          "data": {
            "text/plain": [
              "f_id                           object\n",
              "item                           object\n",
              "veg_or_non_veg                 object\n",
              "menu_id                        object\n",
              "r_id                            int64\n",
              "m_cuisine                      object\n",
              "price                         float64\n",
              "n_pedidos                       int64\n",
              "order_date                     object\n",
              "sales_qty                       int64\n",
              "sales_amount                    int64\n",
              "currency                       object\n",
              "user_id                         int64\n",
              "user_name                      object\n",
              "email                          object\n",
              "password                       object\n",
              "Age                             int64\n",
              "Gender                         object\n",
              "Marital Status                 object\n",
              "Occupation                     object\n",
              "Monthly Income                 object\n",
              "Educational Qualifications     object\n",
              "Family size                     int64\n",
              "restaurant_name                object\n",
              "city                           object\n",
              "rating_restaurant             float64\n",
              "dtype: object"
            ]
          },
          "execution_count": 114,
          "metadata": {},
          "output_type": "execute_result"
        }
      ],
      "source": [
        "type=dados4.dtypes\n",
        "type.head(26)"
      ]
    },
    {
      "cell_type": "markdown",
      "id": "577e2166",
      "metadata": {},
      "source": [
        "**Criar nova tabela**"
      ]
    },
    {
      "cell_type": "code",
      "execution_count": 115,
      "id": "115d4586",
      "metadata": {},
      "outputs": [],
      "source": [
        "#Criar nova tabela\n",
        "dados5=dados4"
      ]
    },
    {
      "cell_type": "code",
      "execution_count": 116,
      "id": "6cd9f358",
      "metadata": {},
      "outputs": [],
      "source": [
        "#Transformar em float\n",
        "dados5['price']= dados5['price'].astype('float')\n",
        "dados5['sales_amount']=dados5['sales_amount'].astype('float')"
      ]
    },
    {
      "cell_type": "markdown",
      "id": "449ee822",
      "metadata": {},
      "source": [
        "###  Coluna 'n_avaliacoes'\n",
        "Esta coluna apresenta as seguintes categorias  em forma de texto que serão substituidas por números:<br>\n",
        "- **'Too Few Ratings':** Substituir por 0.<br>\n",
        "- **'100+ ratings':** Substituir por 100.<br> \n",
        "- **'50+ ratings':** Substituir por 50.<br>\n",
        "- **'20+ ratings':** Substituir por 20.<br>\n",
        "- **'500+ ratings':** Substituir por 500.<br>\n",
        "- **'1K+ ratings':** Substituir por 1000.<br>\n",
        "- **'5K+ ratings':** Substituir por 5000.<br>\n",
        "<br><br>\n",
        "Então, primeiro os valores serão substituídos por números cujos os dados serão do tipo int. E em seguida, será criada uma nova coluna com estes mesmos dados convertidos para valores númericos.\n",
        "<br><br>\n",
        "Esta segunda etapa será feita para o caso de ser necessário referenciar ou comparar os dados originais. \n",
        "\n"
      ]
    },
    {
      "cell_type": "code",
      "execution_count": 117,
      "id": "ef26b67d",
      "metadata": {},
      "outputs": [
        {
          "data": {
            "text/plain": [
              "array(['100+ ratings', '50+ ratings', '20+ ratings', '500+ ratings',\n",
              "       '1K+ ratings', '5K+ ratings'], dtype=object)"
            ]
          },
          "execution_count": 117,
          "metadata": {},
          "output_type": "execute_result"
        }
      ],
      "source": [
        "dados5['n_avaliacoes'].unique()"
      ]
    },
    {
      "cell_type": "code",
      "execution_count": 118,
      "id": "47d81f74",
      "metadata": {},
      "outputs": [],
      "source": [
        "#1. Substituir valores existentes por números\n",
        "mapping = {\n",
        "    'Too Few Ratings': 0,\n",
        "    '100+ ratings': 100,\n",
        "    '50+ ratings': 50,\n",
        "    '20+ ratings': 20,\n",
        "    '500+ ratings': 500,\n",
        "    '1K+ ratings': 1000,\n",
        "    '5K+ ratings': 5000\n",
        "}\n",
        "\n",
        "#2.Criar uma nova coluna com valores numéricos\n",
        "dados5['n_avaliacoes_numeric'] = dados5['n_avaliacoes'].replace(mapping)"
      ]
    },
    {
      "cell_type": "code",
      "execution_count": 119,
      "id": "d3664b45",
      "metadata": {},
      "outputs": [
        {
          "data": {
            "text/plain": [
              "dtype('int64')"
            ]
          },
          "execution_count": 119,
          "metadata": {},
          "output_type": "execute_result"
        }
      ],
      "source": [
        "dados5['n_avaliacoes_numeric'].dtype"
      ]
    },
    {
      "cell_type": "markdown",
      "id": "5c224290",
      "metadata": {},
      "source": [
        "### Coluna 'veg_or_non_veg'\n",
        "Esta coluna apresenta valores 'Veg' e 'Non-veg'.Eles serão transformados em 1 e 0. "
      ]
    },
    {
      "cell_type": "code",
      "execution_count": 120,
      "id": "6586bfd7",
      "metadata": {},
      "outputs": [
        {
          "data": {
            "text/plain": [
              "array(['Veg', 'Non-veg'], dtype=object)"
            ]
          },
          "execution_count": 120,
          "metadata": {},
          "output_type": "execute_result"
        }
      ],
      "source": [
        "dados5['veg_or_non_veg'].unique()"
      ]
    },
    {
      "cell_type": "code",
      "execution_count": 121,
      "id": "f2ac004a",
      "metadata": {},
      "outputs": [],
      "source": [
        "# Criar um dicionário de mapeamento\n",
        "mapping = {'Veg': 1, 'Non-veg': 0}\n",
        "\n",
        "# Aplicar o mapeamento à coluna 'veg_or_non_veg'\n",
        "dados5['veg_or_non_veg1'] = dados5['veg_or_non_veg'].map(mapping)\n"
      ]
    },
    {
      "cell_type": "code",
      "execution_count": 122,
      "id": "074667ce",
      "metadata": {},
      "outputs": [
        {
          "data": {
            "text/plain": [
              "array(['Veg', 'Non-veg'], dtype=object)"
            ]
          },
          "execution_count": 122,
          "metadata": {},
          "output_type": "execute_result"
        }
      ],
      "source": [
        "dados5['veg_or_non_veg'].unique()"
      ]
    },
    {
      "cell_type": "code",
      "execution_count": 123,
      "id": "4b65a411",
      "metadata": {},
      "outputs": [
        {
          "data": {
            "text/plain": [
              "array([1, 0], dtype=int64)"
            ]
          },
          "execution_count": 123,
          "metadata": {},
          "output_type": "execute_result"
        }
      ],
      "source": [
        "dados5['veg_or_non_veg1'].unique()"
      ]
    },
    {
      "cell_type": "markdown",
      "id": "8387d66d",
      "metadata": {},
      "source": [
        "**Criar nova tabela**"
      ]
    },
    {
      "cell_type": "code",
      "execution_count": 124,
      "id": "1614e68c",
      "metadata": {},
      "outputs": [],
      "source": [
        "#Salvar dados5\n",
        "dados5.to_csv(\"Outros_datasets/dados5.csv\")"
      ]
    },
    {
      "cell_type": "code",
      "execution_count": 125,
      "id": "b1676797",
      "metadata": {},
      "outputs": [],
      "source": [
        "#Criar dados 6\n",
        "dados6=dados5"
      ]
    },
    {
      "cell_type": "markdown",
      "id": "3946c4a4",
      "metadata": {},
      "source": [
        "### Transformar datas"
      ]
    },
    {
      "cell_type": "code",
      "execution_count": 126,
      "id": "342f86e2",
      "metadata": {},
      "outputs": [
        {
          "data": {
            "text/plain": [
              "0    2018-04-06\n",
              "1    2018-04-06\n",
              "2    2018-04-06\n",
              "3    2018-04-06\n",
              "4    2018-04-06\n",
              "Name: order_date, dtype: object"
            ]
          },
          "execution_count": 126,
          "metadata": {},
          "output_type": "execute_result"
        }
      ],
      "source": [
        "dados6['order_date'].head()"
      ]
    },
    {
      "cell_type": "markdown",
      "id": "206cca47",
      "metadata": {},
      "source": [
        "#### **Separar ano, mês e dia do pedido**"
      ]
    },
    {
      "cell_type": "code",
      "execution_count": 127,
      "id": "c717cc32",
      "metadata": {},
      "outputs": [],
      "source": [
        "#Desempacotar a lista\n",
        "dados6[['order_ano', 'order_mes', 'order_dia']] = dados6['order_date'].str.split('-', expand=True)\n",
        "\n",
        "#OBS 1: O método str.split() divide uma string em uma lista de strings, usando o delimitador \n",
        "# especificado como argumento. Neste caso, o delimitador é o caractere \"-\"\n",
        "\n",
        "#OBS 2: O argumento expand=True indica que as listas resultantes devem ser expandidas para \n",
        "# colunas separadas no DataFrame dados5."
      ]
    },
    {
      "cell_type": "markdown",
      "id": "d342b596",
      "metadata": {},
      "source": [
        "**Tranformar dados de 'object' para 'int'**"
      ]
    },
    {
      "cell_type": "code",
      "execution_count": 128,
      "id": "095981ae",
      "metadata": {},
      "outputs": [
        {
          "data": {
            "text/plain": [
              "array([2018, 2020, 2017, 2019])"
            ]
          },
          "execution_count": 128,
          "metadata": {},
          "output_type": "execute_result"
        }
      ],
      "source": [
        "#Mudar tipo de dados: de 'object' para 'int'\n",
        "dados6['order_ano']=dados6['order_ano'].astype(int)\n",
        "\n",
        "#Verificar coluna com os anos\n",
        "dados6['order_ano'].unique()"
      ]
    },
    {
      "cell_type": "code",
      "execution_count": 129,
      "id": "1da8de77",
      "metadata": {},
      "outputs": [
        {
          "data": {
            "text/plain": [
              "array([ 4,  3, 11,  5,  6,  7, 12,  2,  9,  8,  1, 10])"
            ]
          },
          "execution_count": 129,
          "metadata": {},
          "output_type": "execute_result"
        }
      ],
      "source": [
        "#Mudar tipo de dados: de 'object' para 'int'\n",
        "dados6['order_mes']=dados6['order_mes'].astype(int)\n",
        "\n",
        "#Verificar coluna com os meses\n",
        "dados6['order_mes'].unique()"
      ]
    },
    {
      "cell_type": "code",
      "execution_count": 130,
      "id": "c63b5e5a",
      "metadata": {},
      "outputs": [
        {
          "data": {
            "text/plain": [
              "array([ 6, 23, 20, 29,  8, 30, 11, 14,  9,  4,  1,  3,  5,  2, 24, 16, 18,\n",
              "       17, 25, 28, 31, 13, 12,  7, 26, 19, 21, 15, 22, 27, 10])"
            ]
          },
          "execution_count": 130,
          "metadata": {},
          "output_type": "execute_result"
        }
      ],
      "source": [
        "#Mudar tipo de dados: de 'object' para 'int'\n",
        "dados6['order_dia']=dados6['order_dia'].astype(int)\n",
        "\n",
        "\n",
        "#Verificar coluna com os dias\n",
        "dados6['order_dia'].unique()"
      ]
    },
    {
      "cell_type": "markdown",
      "id": "01a72a5a",
      "metadata": {},
      "source": [
        "**Criar nova coluna com os anos e meses** "
      ]
    },
    {
      "cell_type": "code",
      "execution_count": 131,
      "id": "1858fba7",
      "metadata": {},
      "outputs": [],
      "source": [
        "# Criar uma nova coluna 'ano_mes'\n",
        "dados6['order_date'] = pd.to_datetime(dados6['order_date'], format='%Y-%m-%d')\n",
        "dados6['order_ano_mes'] = dados6['order_date'].dt.to_period('M')"
      ]
    },
    {
      "cell_type": "markdown",
      "id": "0b1ef112",
      "metadata": {},
      "source": [
        "#### **Obter meses em texto**"
      ]
    },
    {
      "cell_type": "code",
      "execution_count": 132,
      "id": "bb62651d",
      "metadata": {},
      "outputs": [
        {
          "data": {
            "text/plain": [
              "array(['April', 'March', 'November', 'May', 'June', 'July', 'December',\n",
              "       'February', 'September', 'August', 'January', 'October'],\n",
              "      dtype=object)"
            ]
          },
          "execution_count": 132,
          "metadata": {},
          "output_type": "execute_result"
        }
      ],
      "source": [
        "# Converter a coluna 'order_date' para o tipo datetime\n",
        "dados6['order_date'] = pd.to_datetime(dados6['order_date'])\n",
        "\n",
        "# Criar uma nova coluna 'mes_escrito' com os meses de forma escrita\n",
        "dados6['mes_escrito'] = dados6['order_date'].dt.strftime('%B')\n",
        "\n",
        "dados6['mes_escrito'].unique()"
      ]
    },
    {
      "cell_type": "markdown",
      "id": "028a3d2b",
      "metadata": {},
      "source": [
        "#### **Obter dias do mês em texto**"
      ]
    },
    {
      "cell_type": "code",
      "execution_count": 133,
      "id": "406abbef",
      "metadata": {},
      "outputs": [
        {
          "data": {
            "text/plain": [
              "array(['dia_06', 'dia_23', 'dia_20', 'dia_29', 'dia_08', 'dia_30',\n",
              "       'dia_11', 'dia_14', 'dia_09', 'dia_04', 'dia_01', 'dia_03',\n",
              "       'dia_05', 'dia_02', 'dia_24', 'dia_16', 'dia_18', 'dia_17',\n",
              "       'dia_25', 'dia_28', 'dia_31', 'dia_13', 'dia_12', 'dia_07',\n",
              "       'dia_26', 'dia_19', 'dia_21', 'dia_15', 'dia_22', 'dia_27',\n",
              "       'dia_10'], dtype=object)"
            ]
          },
          "execution_count": 133,
          "metadata": {},
          "output_type": "execute_result"
        }
      ],
      "source": [
        "# Converter a coluna 'order_date' para o tipo datetime\n",
        "dados6['order_date'] = pd.to_datetime(dados6['order_date'])\n",
        "\n",
        "# Criar uma nova coluna 'dia_escrito' com os dias escritos\n",
        "dados6['dia_escrito'] = dados6['order_date'].dt.strftime('dia_%d')\n",
        "\n",
        "dados6['dia_escrito'].unique()"
      ]
    },
    {
      "cell_type": "markdown",
      "id": "d6942613",
      "metadata": {},
      "source": [
        "#### **Obter dia da semana do pedido**\n",
        "Será criada uma nova coluna chamada 'order_weekday'. Esta coluna representa os dias da semana em que foram feito os pedidos. O valor **0** representa **segunda-feira** e o valor **6** representa **domingo**."
      ]
    },
    {
      "cell_type": "markdown",
      "id": "12536817",
      "metadata": {},
      "source": [
        "#### Dia da semana em número"
      ]
    },
    {
      "cell_type": "code",
      "execution_count": 134,
      "id": "c10f92a0",
      "metadata": {},
      "outputs": [],
      "source": [
        "#Converter a coluna 'order_date' em um objeto de data e hora\n",
        "dados6['order_date'] = pd.to_datetime(dados6['order_date'])\n",
        "\n",
        "#Extrair o dia da semana da coluna order_date\n",
        "dados6['order_weekday'] = dados6['order_date'].dt.weekday\n",
        "#OBS: O método dt.weekday() retorna um número inteiro que \n",
        "#representa o dia da semana, começando com 0 (segunda-feira)\n",
        "#e terminando com 6 (domingo)."
      ]
    },
    {
      "cell_type": "code",
      "execution_count": 135,
      "id": "1ba06480",
      "metadata": {},
      "outputs": [
        {
          "data": {
            "text/plain": [
              "array([4, 0, 1, 2, 3, 5, 6])"
            ]
          },
          "execution_count": 135,
          "metadata": {},
          "output_type": "execute_result"
        }
      ],
      "source": [
        "dados6['order_weekday'].unique()"
      ]
    },
    {
      "cell_type": "markdown",
      "id": "f3b92cb5",
      "metadata": {},
      "source": [
        "#### Dia da semana em texto\n"
      ]
    },
    {
      "cell_type": "code",
      "execution_count": 136,
      "id": "e54b838b",
      "metadata": {},
      "outputs": [
        {
          "data": {
            "text/plain": [
              "array(['Friday', 'Monday', 'Tuesday', 'Wednesday', 'Thursday', 'Saturday',\n",
              "       'Sunday'], dtype=object)"
            ]
          },
          "execution_count": 136,
          "metadata": {},
          "output_type": "execute_result"
        }
      ],
      "source": [
        "#Converter a coluna 'order_date' em um objeto de data e hora\n",
        "dados6['order_date'] = pd.to_datetime(dados6['order_date'])\n",
        "\n",
        "#Extrair o dia da semana da coluna order_date\n",
        "dados6['order_weekday1'] = dados6['order_date'].dt.day_name()\n",
        "\n",
        "dados6['order_weekday1'].unique()"
      ]
    },
    {
      "cell_type": "markdown",
      "id": "90f7f177",
      "metadata": {},
      "source": [
        "**Salvar tabela**"
      ]
    },
    {
      "cell_type": "code",
      "execution_count": 137,
      "id": "e108bff7",
      "metadata": {},
      "outputs": [],
      "source": [
        "dados6.to_csv(\"Outros_datasets/dados6.csv\")"
      ]
    },
    {
      "cell_type": "markdown",
      "id": "8014e503",
      "metadata": {},
      "source": [
        "**Criar nova tabela**"
      ]
    },
    {
      "cell_type": "code",
      "execution_count": 3,
      "id": "239391fd",
      "metadata": {},
      "outputs": [
        {
          "name": "stderr",
          "output_type": "stream",
          "text": [
            "C:\\Users\\Usuário\\AppData\\Local\\Temp\\ipykernel_13948\\1638037361.py:2: DtypeWarning: Columns (30) have mixed types. Specify dtype option on import or set low_memory=False.\n",
            "  dados6=pd.read_csv(\"../Outros_datasets/dados6.csv\")\n"
          ]
        }
      ],
      "source": [
        "import pandas as pd \n",
        "dados6=pd.read_csv(\"../Outros_datasets/dados6.csv\")\n",
        "dados7=dados6"
      ]
    },
    {
      "cell_type": "markdown",
      "id": "b98f895c",
      "metadata": {},
      "source": [
        "###  Preço\n",
        "A base de dados possui valores que estão em dollar e em Rupia Indiana. Eles serão convetidos para dóllar, levando em consideração a taxa de câmbio de hoje.\n",
        "<ul>\n",
        "<li>Dia:21/12/2023 -> 1 Rupia indiana = 0,012 Dólar americano</li>\n",
        "</ul>\n"
      ]
    },
    {
      "cell_type": "code",
      "execution_count": 4,
      "id": "f2def663",
      "metadata": {},
      "outputs": [
        {
          "name": "stdout",
          "output_type": "stream",
          "text": [
            "['INR' 'INR\\r' 'USD']\n"
          ]
        }
      ],
      "source": [
        "var_unic=dados7['currency'].unique()\n",
        "print(var_unic)"
      ]
    },
    {
      "cell_type": "code",
      "execution_count": 5,
      "id": "0c4c73bd",
      "metadata": {},
      "outputs": [
        {
          "data": {
            "text/plain": [
              "0    ₹ 100\n",
              "1    ₹ 100\n",
              "2    ₹ 100\n",
              "3    ₹ 100\n",
              "4    ₹ 100\n",
              "Name: cost, dtype: object"
            ]
          },
          "execution_count": 5,
          "metadata": {},
          "output_type": "execute_result"
        }
      ],
      "source": [
        "dados7['cost'].head()"
      ]
    },
    {
      "cell_type": "markdown",
      "id": "2d6491f5",
      "metadata": {},
      "source": [
        "#### **Retirar o simbolo ₹ da coluna 'cost'**"
      ]
    },
    {
      "cell_type": "code",
      "execution_count": 7,
      "id": "907508d3",
      "metadata": {},
      "outputs": [
        {
          "name": "stdout",
          "output_type": "stream",
          "text": [
            "0         100\n",
            "1         100\n",
            "2         100\n",
            "3         100\n",
            "4         100\n",
            "         ... \n",
            "669877    650\n",
            "669878    650\n",
            "669879    650\n",
            "669880    650\n",
            "669881    650\n",
            "Name: cost1, Length: 669882, dtype: int64\n"
          ]
        }
      ],
      "source": [
        "# Remover o símbolo ₹ e converter para formato numérico\n",
        "dados7['cost1'] = pd.to_numeric(dados7['cost'].str.replace('₹', ''), errors='coerce')\n",
        "\n",
        "# Exibir o DataFrame com a coluna 'cost1' modificada\n",
        "print(dados7['cost1'])"
      ]
    },
    {
      "cell_type": "markdown",
      "id": "ecaafe6c",
      "metadata": {},
      "source": [
        "#### **Coluna 'cost': Transformar Rupia Indiana em Dóllar Americano**"
      ]
    },
    {
      "cell_type": "code",
      "execution_count": 8,
      "id": "38bc5786",
      "metadata": {},
      "outputs": [
        {
          "name": "stdout",
          "output_type": "stream",
          "text": [
            "        cost1  cost_usd\n",
            "0         100       1.2\n",
            "1         100       1.2\n",
            "2         100       1.2\n",
            "3         100       1.2\n",
            "4         100       1.2\n",
            "...       ...       ...\n",
            "669877    650       7.8\n",
            "669878    650       7.8\n",
            "669879    650       7.8\n",
            "669880    650       7.8\n",
            "669881    650       7.8\n",
            "\n",
            "[669882 rows x 2 columns]\n"
          ]
        }
      ],
      "source": [
        "# Taxa de câmbio INR para USD\n",
        "taxa_cambio_inr_usd = 0.012 \n",
        "\n",
        "# Converter a coluna 'cost' de INR para USD\n",
        "dados7['cost_usd'] = dados7['cost1'] * taxa_cambio_inr_usd\n",
        "\n",
        "# Exibir o DataFrame com a nova coluna\n",
        "print(dados7[['cost1', 'cost_usd']])\n"
      ]
    },
    {
      "cell_type": "markdown",
      "id": "75e74024",
      "metadata": {},
      "source": [
        "#### **Coluna Price : Converter para Dóllar**"
      ]
    },
    {
      "cell_type": "code",
      "execution_count": 9,
      "id": "422381a0",
      "metadata": {},
      "outputs": [
        {
          "data": {
            "text/plain": [
              "0     65.0\n",
              "1     65.0\n",
              "2    145.0\n",
              "3    145.0\n",
              "4    145.0\n",
              "Name: price, dtype: float64"
            ]
          },
          "execution_count": 9,
          "metadata": {},
          "output_type": "execute_result"
        }
      ],
      "source": [
        "dados7['price'].head()"
      ]
    },
    {
      "cell_type": "code",
      "execution_count": 10,
      "id": "6de4401d",
      "metadata": {},
      "outputs": [
        {
          "data": {
            "text/html": [
              "<div>\n",
              "<style scoped>\n",
              "    .dataframe tbody tr th:only-of-type {\n",
              "        vertical-align: middle;\n",
              "    }\n",
              "\n",
              "    .dataframe tbody tr th {\n",
              "        vertical-align: top;\n",
              "    }\n",
              "\n",
              "    .dataframe thead th {\n",
              "        text-align: right;\n",
              "    }\n",
              "</style>\n",
              "<table border=\"1\" class=\"dataframe\">\n",
              "  <thead>\n",
              "    <tr style=\"text-align: right;\">\n",
              "      <th></th>\n",
              "      <th>currency</th>\n",
              "      <th>cost</th>\n",
              "      <th>cost_usd</th>\n",
              "      <th>price</th>\n",
              "      <th>price_usd</th>\n",
              "    </tr>\n",
              "  </thead>\n",
              "  <tbody>\n",
              "    <tr>\n",
              "      <th>0</th>\n",
              "      <td>INR</td>\n",
              "      <td>₹ 100</td>\n",
              "      <td>1.2</td>\n",
              "      <td>65.0</td>\n",
              "      <td>0.78</td>\n",
              "    </tr>\n",
              "    <tr>\n",
              "      <th>1</th>\n",
              "      <td>INR</td>\n",
              "      <td>₹ 100</td>\n",
              "      <td>1.2</td>\n",
              "      <td>65.0</td>\n",
              "      <td>0.78</td>\n",
              "    </tr>\n",
              "    <tr>\n",
              "      <th>2</th>\n",
              "      <td>INR</td>\n",
              "      <td>₹ 100</td>\n",
              "      <td>1.2</td>\n",
              "      <td>145.0</td>\n",
              "      <td>1.74</td>\n",
              "    </tr>\n",
              "  </tbody>\n",
              "</table>\n",
              "</div>"
            ],
            "text/plain": [
              "  currency   cost  cost_usd  price  price_usd\n",
              "0      INR  ₹ 100       1.2   65.0       0.78\n",
              "1      INR  ₹ 100       1.2   65.0       0.78\n",
              "2      INR  ₹ 100       1.2  145.0       1.74"
            ]
          },
          "execution_count": 10,
          "metadata": {},
          "output_type": "execute_result"
        }
      ],
      "source": [
        "# Criar a nova coluna 'price_usd' e aplicar a conversão para 'INR' e 'INR\\r'\n",
        "dados7['price_usd'] = dados7['price']\n",
        "dados7.loc[dados7['currency'].isin(['INR', 'INR\\r']), 'price_usd'] *= taxa_cambio_inr_usd\n",
        "# Exibir o DataFrame com as colunas 'price' e 'price_usd'\n",
        "preco= dados7[[ 'currency','cost','cost_usd', 'price', 'price_usd', ]]\n",
        "preco.head(3)"
      ]
    },
    {
      "cell_type": "markdown",
      "id": "099cbc8c",
      "metadata": {},
      "source": [
        "#### **Coluna sales_amount : Converter para Dóllar**"
      ]
    },
    {
      "cell_type": "code",
      "execution_count": 11,
      "id": "d0fb897e",
      "metadata": {},
      "outputs": [
        {
          "data": {
            "text/plain": [
              "0    875.0\n",
              "1    875.0\n",
              "2    875.0\n",
              "3    875.0\n",
              "4    875.0\n",
              "Name: sales_amount, dtype: float64"
            ]
          },
          "execution_count": 11,
          "metadata": {},
          "output_type": "execute_result"
        }
      ],
      "source": [
        "dados7['sales_amount'].head()"
      ]
    },
    {
      "cell_type": "code",
      "execution_count": 114,
      "id": "eb86eff3",
      "metadata": {},
      "outputs": [],
      "source": [
        "# Taxa de câmbio INR para USD\n",
        "taxa_cambio_inr_usd = 0.012 "
      ]
    },
    {
      "cell_type": "code",
      "execution_count": 12,
      "id": "a7a0453f",
      "metadata": {},
      "outputs": [
        {
          "name": "stdout",
          "output_type": "stream",
          "text": [
            "       currency  sales_amount  sales_amount_usd\n",
            "0           INR         875.0             10.50\n",
            "1           INR         875.0             10.50\n",
            "2           INR         875.0             10.50\n",
            "3           INR         875.0             10.50\n",
            "4           INR         875.0             10.50\n",
            "...         ...           ...               ...\n",
            "669877    INR\\r         190.0              2.28\n",
            "669878    INR\\r         190.0              2.28\n",
            "669879    INR\\r         190.0              2.28\n",
            "669880    INR\\r         190.0              2.28\n",
            "669881    INR\\r         190.0              2.28\n",
            "\n",
            "[669882 rows x 3 columns]\n"
          ]
        }
      ],
      "source": [
        "# Criar a nova coluna 'sales_amount_usd' e aplicar a conversão para 'INR' e 'INR\\r'\n",
        "dados7['sales_amount_usd'] = dados7['sales_amount']\n",
        "dados7.loc[dados7['currency'].isin(['INR', 'INR\\r']), 'sales_amount_usd'] *= taxa_cambio_inr_usd\n",
        "# Exibir o DataFrame com as colunas 'price' e 'price_usd'\n",
        "print(dados7[['currency','sales_amount', 'sales_amount_usd']])"
      ]
    },
    {
      "cell_type": "markdown",
      "id": "77b3c8b9",
      "metadata": {},
      "source": [
        "**Salvar tabela**"
      ]
    },
    {
      "cell_type": "code",
      "execution_count": 15,
      "id": "5a918128",
      "metadata": {},
      "outputs": [],
      "source": [
        "dados7.to_csv(\"../Outros_datasets/dados7.csv\", index=False)"
      ]
    },
    {
      "cell_type": "markdown",
      "id": "ce893c31",
      "metadata": {},
      "source": [
        "**Criar nova tabela**"
      ]
    },
    {
      "cell_type": "code",
      "execution_count": 16,
      "id": "1c7573a9",
      "metadata": {},
      "outputs": [
        {
          "name": "stderr",
          "output_type": "stream",
          "text": [
            "C:\\Users\\Usuário\\AppData\\Local\\Temp\\ipykernel_13948\\4192029906.py:2: DtypeWarning: Columns (29) have mixed types. Specify dtype option on import or set low_memory=False.\n",
            "  dados7=pd.read_csv(\"../Outros_datasets/dados7.csv\")\n"
          ]
        }
      ],
      "source": [
        "import pandas as pd\n",
        "dados7=pd.read_csv(\"../Outros_datasets/dados7.csv\")\n",
        "dados8=dados7"
      ]
    },
    {
      "cell_type": "code",
      "execution_count": 17,
      "id": "87a2b58a",
      "metadata": {},
      "outputs": [
        {
          "data": {
            "text/plain": [
              "669882"
            ]
          },
          "execution_count": 17,
          "metadata": {},
          "output_type": "execute_result"
        }
      ],
      "source": [
        "#Verificar a quantidade de linhas\n",
        "len(dados8)"
      ]
    },
    {
      "cell_type": "markdown",
      "id": "9132ba5e",
      "metadata": {},
      "source": [
        "## Outliers"
      ]
    },
    {
      "cell_type": "markdown",
      "id": "d7bbb7c0",
      "metadata": {},
      "source": [
        "#### **Função que calcula o Resumo Estatístico para variáveis númericas**"
      ]
    },
    {
      "cell_type": "code",
      "execution_count": 18,
      "id": "6c58a51f",
      "metadata": {},
      "outputs": [],
      "source": [
        "import pandas as pd\n",
        "\n",
        "def res(series):\n",
        "    # Calcula estatísticas descritivas usando agg\n",
        "    resumo = series.agg(['count', 'mean','median', 'std', 'min', 'max' ]).round(2)\n",
        "\n",
        "    # Renomeiar a coluna 'median' para 'median (50%)'\n",
        "    resumo = resumo.rename(index={'median': 'median (50%)'})\n",
        "\n",
        "\n",
        "    # Calcula percentis usando quantile\n",
        "    percentis = series.quantile([0.25, 0.5, 0.75]).round(2)\n",
        "\n",
        "    # Combina os resultados em um DataFrame único\n",
        "    resumo = pd.concat([resumo, percentis.rename({0.25: '25%', 0.5: '50%', 0.75: '75%'})])\n",
        "\n",
        "    return resumo\n"
      ]
    },
    {
      "cell_type": "markdown",
      "id": "61ec63d0",
      "metadata": {},
      "source": [
        "#### **Função que retorna valor único**"
      ]
    },
    {
      "cell_type": "code",
      "execution_count": 19,
      "id": "20a66602",
      "metadata": {},
      "outputs": [],
      "source": [
        "import pandas as pd\n",
        "\n",
        "def uniq(series):\n",
        "    # Calcula a contagem dos valores únicos usando value_counts\n",
        "    contagem = series.value_counts().reset_index()\n",
        "\n",
        "    # Renomeia as colunas para tornar o resultado mais claro\n",
        "    contagem.columns = ['Valor_Único', 'Frequência']\n",
        "\n",
        "    # Adiciona uma coluna de proporção em porcentagem\n",
        "    contagem['Proporção (%)'] = (contagem['Frequência'] / contagem['Frequência'].sum()) * 100\n",
        "\n",
        "    # Arredonda a coluna de proporção para 4 casas decimais\n",
        "    contagem['Proporção (%)'] = contagem['Proporção (%)'].round(4)\n",
        "\n",
        "    # Formata a coluna de proporção como porcentagem\n",
        "    contagem['Proporção (%)'] = contagem['Proporção (%)'].map('{:.4f}%'.format)\n",
        "\n",
        "    return contagem\n"
      ]
    },
    {
      "cell_type": "markdown",
      "id": "a9fcf43e",
      "metadata": {},
      "source": [
        "### Valor Total do Pedido (em USD)"
      ]
    },
    {
      "cell_type": "markdown",
      "id": "73debac3",
      "metadata": {},
      "source": [
        "#### **Verificar valores negativos**"
      ]
    },
    {
      "cell_type": "code",
      "execution_count": 20,
      "id": "63f883c5",
      "metadata": {},
      "outputs": [
        {
          "name": "stdout",
          "output_type": "stream",
          "text": [
            "220\n"
          ]
        }
      ],
      "source": [
        "# Contagem de valores negativos na coluna 'sales_amount_usd'\n",
        "quantidade_negativos = (dados8['sales_amount_usd'] < 0).sum()\n",
        "print(quantidade_negativos)"
      ]
    },
    {
      "cell_type": "code",
      "execution_count": 21,
      "id": "cc63adda",
      "metadata": {},
      "outputs": [
        {
          "data": {
            "text/plain": [
              "array([-0.012])"
            ]
          },
          "execution_count": 21,
          "metadata": {},
          "output_type": "execute_result"
        }
      ],
      "source": [
        "# Criar uma nova tabela apenas com os valores negativos\n",
        "tabela_negativos = dados8[dados8['sales_amount_usd'] < 0]\n",
        "tabela_negativos['sales_amount_usd'].unique()"
      ]
    },
    {
      "cell_type": "markdown",
      "id": "9803a0b9",
      "metadata": {},
      "source": [
        "**Retirar valores negativos**"
      ]
    },
    {
      "cell_type": "code",
      "execution_count": 22,
      "id": "7f1d2e5c",
      "metadata": {},
      "outputs": [],
      "source": [
        "# Filtrar apenas os valores não negativos\n",
        "dados8 = dados8[dados8['sales_amount_usd'] >= 0]"
      ]
    },
    {
      "cell_type": "code",
      "execution_count": 23,
      "id": "15668e1e",
      "metadata": {},
      "outputs": [
        {
          "data": {
            "text/plain": [
              "669662"
            ]
          },
          "execution_count": 23,
          "metadata": {},
          "output_type": "execute_result"
        }
      ],
      "source": [
        "len(dados8)"
      ]
    },
    {
      "cell_type": "markdown",
      "id": "893384b9",
      "metadata": {},
      "source": [
        "**Verificar o que mudou nas colunas r_cuisine e r_cuisine1**"
      ]
    },
    {
      "cell_type": "code",
      "execution_count": 24,
      "id": "4d416263",
      "metadata": {},
      "outputs": [
        {
          "data": {
            "text/plain": [
              "626"
            ]
          },
          "execution_count": 24,
          "metadata": {},
          "output_type": "execute_result"
        }
      ],
      "source": [
        "dados8['r_cuisine'].nunique()"
      ]
    },
    {
      "cell_type": "code",
      "execution_count": 25,
      "id": "80926b39",
      "metadata": {},
      "outputs": [
        {
          "data": {
            "text/plain": [
              "70"
            ]
          },
          "execution_count": 25,
          "metadata": {},
          "output_type": "execute_result"
        }
      ],
      "source": [
        "dados8['r_cuisine1'].nunique()"
      ]
    },
    {
      "cell_type": "markdown",
      "id": "aeb12d08",
      "metadata": {},
      "source": [
        "#### **Identificando Outliers**"
      ]
    },
    {
      "cell_type": "markdown",
      "id": "635bfb02",
      "metadata": {},
      "source": [
        "##### **Gráfico Boxplot 1**"
      ]
    },
    {
      "cell_type": "code",
      "execution_count": 26,
      "id": "1928e9ae",
      "metadata": {},
      "outputs": [
        {
          "data": {
            "image/png": "[encoded data removed]",
            "text/plain": [
              "<Figure size 1000x600 with 1 Axes>"
            ]
          },
          "metadata": {},
          "output_type": "display_data"
        }
      ],
      "source": [
        "import seaborn as sns\n",
        "import matplotlib.pyplot as plt\n",
        "\n",
        "# Supondo que dados8 seja o seu DataFrame\n",
        "# Substitua 'sales_amount_usd' pela coluna de interesse\n",
        "#sns.set(style=\"whitegrid\")  # Define o estilo do gráfico\n",
        "\n",
        "# Ajusta a escala para melhor visualização\n",
        "plt.figure(figsize=(10, 6))\n",
        "\n",
        "# Personaliza o boxplot com a cor desejada\n",
        "sns.boxplot(x=dados8['sales_amount_usd'], color='#9C0E0A', width=0.5, linewidth=1.5)\n",
        "\n",
        "# Adiciona título e rótulos aos eixos\n",
        "plt.title('Distribuição de Sales Amount (em USD)')\n",
        "plt.xlabel('Sales Amount (USD)')\n",
        "\n",
        "# Exibe o gráfico\n",
        "plt.show()\n",
        "\n"
      ]
    },
    {
      "cell_type": "markdown",
      "id": "5a5f2d0b",
      "metadata": {},
      "source": [
        "##### **Gráfico Boxplot 2**"
      ]
    },
    {
      "cell_type": "code",
      "execution_count": 27,
      "id": "add4204b",
      "metadata": {},
      "outputs": [
        {
          "data": {
            "image/png": "[encoded data removed]",
            "text/plain": [
              "<Figure size 2000x600 with 1 Axes>"
            ]
          },
          "metadata": {},
          "output_type": "display_data"
        }
      ],
      "source": [
        "import seaborn as sns\n",
        "import matplotlib.pyplot as plt\n",
        "import numpy as np\n",
        "\n",
        "# Supondo que dados8 seja o seu DataFrame\n",
        "# Substitua 'sales_amount_usd' pela coluna de interesse\n",
        "sns.set(style=\"whitegrid\")  # Define o estilo do gráfico\n",
        "\n",
        "# Ajusta a escala e largura da figura para melhor visualização\n",
        "plt.figure(figsize=(20, 6))\n",
        "\n",
        "# Personaliza o boxplot com a cor vermelho escuro\n",
        "sns.boxplot(x=dados8['sales_amount_usd'], color='#9C0E0A', width=0.5, linewidth=1.5)\n",
        "\n",
        "# Adiciona título e rótulos aos eixos\n",
        "plt.title('Distribuição de Sales Amount (em USD)')\n",
        "plt.xlabel('Sales Amount (USD)')\n",
        "\n",
        "# Personaliza os ticks no eixo x para aparecerem em intervalos de 500 e em negrito\n",
        "intervalos_ticks = np.arange(0, dados8['sales_amount_usd'].max() + 500, 500)\n",
        "plt.xticks(intervalos_ticks, [f'{int(tick):,}' for tick in intervalos_ticks], weight='bold')\n",
        "\n",
        "# Exibe o gráfico\n",
        "plt.show()\n"
      ]
    },
    {
      "cell_type": "markdown",
      "id": "02c2d578",
      "metadata": {},
      "source": [
        "#### **Escolhendo o ponto de corte para outliers**\n",
        "O objetivo é definir um ponto para que serão considerados outliers. Para isso, será identificado valores extremos que podem ter um impacto significativo na análise. \n",
        "<br><br>\n",
        "O ponto de corte escolhido são valores maiores que 500.\n",
        "<br><br>\n",
        "<center>\n",
        "<img src=\"../Imagens/Limpeza_e_Transformação/ponto_de_outliers1.1.png\" width=\"100%\">\n",
        "</center>"
      ]
    },
    {
      "cell_type": "markdown",
      "id": "1531ec98",
      "metadata": {},
      "source": [
        "<br>"
      ]
    },
    {
      "cell_type": "markdown",
      "id": "6d54ed46",
      "metadata": {},
      "source": [
        "**Identificando em quantas linhas o valor é maior ou igual a 1.500**"
      ]
    },
    {
      "cell_type": "code",
      "execution_count": 28,
      "id": "86c5a6be",
      "metadata": {},
      "outputs": [
        {
          "name": "stdout",
          "output_type": "stream",
          "text": [
            "O número de linhas de 'sales_amount_usd' cujo valor é maior ou igual a 1500 é 7271\n",
            "A porcentagem de linhas onde 'sales_amount_usd' maior ou igual a 1500 em relação ao total é: 1.09%\n",
            "\n",
            "O número de linhas de 'sales_amount_usd' cujo valor é menor que 1500 é 662391\n",
            "A porcentagem de linhas onde 'sales_amount_usd' é menor que  1500 em relação ao total é: 98.91%\n"
          ]
        }
      ],
      "source": [
        "total_de_linhas = len(dados8)\n",
        "\n",
        "#Número de linhas com sales_amount_usd maior ou igual a 1500\n",
        "numero_de_linhas_sales_amount_usd_maior_ou_igual_1500 = len(dados8[dados8[\"sales_amount_usd\"] >= 1500])\n",
        "\n",
        "#Porcentagem de linhas com sales_amount_usd maior ou igual a 1500\n",
        "porcentagem_sales_amount_usd_maior_que_1500 = (numero_de_linhas_sales_amount_usd_maior_ou_igual_1500 / total_de_linhas) * 100\n",
        "\n",
        "\n",
        "#Número de linhas com sales_amount_usd menor que  1500\n",
        "numero_de_linhas_sales_amount_usd_menor_1500 = len(dados8[dados8[\"sales_amount_usd\"] < 1500])\n",
        "\n",
        "#Porcentagem de linhas com sales_amount_usd menor 1500\n",
        "porcentagem_sales_amount_usd_menor_1500 = (numero_de_linhas_sales_amount_usd_menor_1500 / total_de_linhas) * 100\n",
        "\n",
        "print(f\"O número de linhas de 'sales_amount_usd' cujo valor é maior ou igual a 1500 é {numero_de_linhas_sales_amount_usd_maior_ou_igual_1500}\")\n",
        "print(f\"A porcentagem de linhas onde 'sales_amount_usd' maior ou igual a 1500 em relação ao total é: {porcentagem_sales_amount_usd_maior_que_1500:.2f}%\")\n",
        "print(\"\")\n",
        "print(f\"O número de linhas de 'sales_amount_usd' cujo valor é menor que 1500 é {numero_de_linhas_sales_amount_usd_menor_1500}\")\n",
        "print(f\"A porcentagem de linhas onde 'sales_amount_usd' é menor que  1500 em relação ao total é: {porcentagem_sales_amount_usd_menor_1500:.2f}%\")\n"
      ]
    },
    {
      "cell_type": "markdown",
      "id": "f183298a",
      "metadata": {},
      "source": [
        "**Identificando em quantas linhas o valor é maior ou igual a 1.000**"
      ]
    },
    {
      "cell_type": "code",
      "execution_count": 29,
      "id": "3c7b5dc3",
      "metadata": {},
      "outputs": [
        {
          "name": "stdout",
          "output_type": "stream",
          "text": [
            "O número de linhas de 'sales_amount_usd' cujo valor é maior ou igual a 1000 é 11311\n",
            "A porcentagem de linhas onde 'sales_amount_usd' maior ou igual a 1000 em relação ao total é: 1.69%\n",
            "\n",
            "O número de linhas de 'sales_amount_usd' cujo valor é menor que 1000 é 658351\n",
            "A porcentagem de linhas onde 'sales_amount_usd' menor que 1000 em relação ao total é: 98.31%\n"
          ]
        }
      ],
      "source": [
        "total_de_linhas = len(dados8)\n",
        "\n",
        "#Número de linhas com sales_amount_usd maior ou igual a 1000\n",
        "numero_de_linhas_sales_amount_usd_maior_ou_igual_1000 = len(dados8[dados8[\"sales_amount_usd\"] >= 1000])\n",
        "\n",
        "#Porcentagem de linhas com sales_amount_usd maior ou igual a 1000\n",
        "porcentagem_sales_amount_usd_maior_que_1000 = (numero_de_linhas_sales_amount_usd_maior_ou_igual_1000 / total_de_linhas) * 100\n",
        "\n",
        "\n",
        "#Número de linhas com sales_amount_usd menor que  1000\n",
        "numero_de_linhas_sales_amount_usd_menor_1000 = len(dados8[dados8[\"sales_amount_usd\"] < 1000])\n",
        "\n",
        "#Porcentagem de linhas com sales_amount_usd menor 1000\n",
        "porcentagem_sales_amount_usd_menor_1000 = (numero_de_linhas_sales_amount_usd_menor_1000 / total_de_linhas) * 100\n",
        "\n",
        "print(f\"O número de linhas de 'sales_amount_usd' cujo valor é maior ou igual a 1000 é {numero_de_linhas_sales_amount_usd_maior_ou_igual_1000}\")\n",
        "print(f\"A porcentagem de linhas onde 'sales_amount_usd' maior ou igual a 1000 em relação ao total é: {porcentagem_sales_amount_usd_maior_que_1000:.2f}%\")\n",
        "print(\"\")\n",
        "print(f\"O número de linhas de 'sales_amount_usd' cujo valor é menor que 1000 é {numero_de_linhas_sales_amount_usd_menor_1000}\")\n",
        "print(f\"A porcentagem de linhas onde 'sales_amount_usd' menor que 1000 em relação ao total é: {porcentagem_sales_amount_usd_menor_1000:.2f}%\")\n"
      ]
    },
    {
      "cell_type": "markdown",
      "id": "ff41a184",
      "metadata": {},
      "source": [
        "<br>"
      ]
    },
    {
      "cell_type": "markdown",
      "id": "79be3cdc",
      "metadata": {},
      "source": [
        "**Identificando em quantas linhas o valor é maior ou igual a 500**"
      ]
    },
    {
      "cell_type": "code",
      "execution_count": 30,
      "id": "5348664a",
      "metadata": {},
      "outputs": [
        {
          "name": "stdout",
          "output_type": "stream",
          "text": [
            "O número de linhas de 'sales_amount_usd' cujo valor é maior ou igual a 500 é 26434\n",
            "A porcentagem de linhas onde 'sales_amount_usd' maior ou igual a 500 em relação ao total é: 3.95%\n",
            "\n",
            "O número de linhas de 'sales_amount_usd' cujo valor é menor que 500 é 643228\n",
            "A porcentagem de linhas onde 'sales_amount_usd' menor que 500 em relação ao total é: 96.05%\n"
          ]
        }
      ],
      "source": [
        "total_de_linhas = len(dados8)\n",
        "\n",
        "#Número de linhas com sales_amount_usd maior ou igual a 500\n",
        "numero_de_linhas_sales_amount_usd_maior_ou_igual_500 = len(dados8[dados8[\"sales_amount_usd\"] >= 500])\n",
        "\n",
        "#Porcentagem de linhas com sales_amount_usd maior ou igual a 500\n",
        "porcentagem_sales_amount_usd_maior_que_500 = (numero_de_linhas_sales_amount_usd_maior_ou_igual_500 / total_de_linhas) * 100\n",
        "\n",
        "\n",
        "#Número de linhas com sales_amount_usd menor que  500\n",
        "numero_de_linhas_sales_amount_usd_menor_500 = len(dados8[dados8[\"sales_amount_usd\"] < 500])\n",
        "\n",
        "#Porcentagem de linhas com sales_amount_usd menor 500\n",
        "porcentagem_sales_amount_usd_menor_500 = (numero_de_linhas_sales_amount_usd_menor_500 / total_de_linhas) * 100\n",
        "\n",
        "print(f\"O número de linhas de 'sales_amount_usd' cujo valor é maior ou igual a 500 é {numero_de_linhas_sales_amount_usd_maior_ou_igual_500}\")\n",
        "print(f\"A porcentagem de linhas onde 'sales_amount_usd' maior ou igual a 500 em relação ao total é: {porcentagem_sales_amount_usd_maior_que_500:.2f}%\")\n",
        "print(\"\")\n",
        "print(f\"O número de linhas de 'sales_amount_usd' cujo valor é menor que 500 é {numero_de_linhas_sales_amount_usd_menor_500}\")\n",
        "print(f\"A porcentagem de linhas onde 'sales_amount_usd' menor que 500 em relação ao total é: {porcentagem_sales_amount_usd_menor_500:.2f}%\")\n"
      ]
    },
    {
      "cell_type": "markdown",
      "id": "04057f46",
      "metadata": {},
      "source": [
        "**Identificando em quantas linhas o valor é maior ou igual a 400**"
      ]
    },
    {
      "cell_type": "code",
      "execution_count": 31,
      "id": "23e8043b",
      "metadata": {},
      "outputs": [
        {
          "name": "stdout",
          "output_type": "stream",
          "text": [
            "O número de linhas de 'sales_amount_usd' cujo valor é maior ou igual a 400 é 33960\n",
            "A porcentagem de linhas onde 'sales_amount_usd' maior ou igual a 400 em relação ao total é: 5.07%\n",
            "\n",
            "O número de linhas de 'sales_amount_usd' cujo valor é menor que 400 é 635702\n",
            "A porcentagem de linhas onde 'sales_amount_usd' maior 400 em relação ao total é: 94.93%\n"
          ]
        }
      ],
      "source": [
        "total_de_linhas = len(dados8)\n",
        "\n",
        "#Número de linhas com sales_amount_usd maior ou igual a 400\n",
        "numero_de_linhas_sales_amount_usd_maior_ou_igual_400 = len(dados8[dados8[\"sales_amount_usd\"] >= 400])\n",
        "\n",
        "#Porcentagem de linhas com sales_amount_usd maior ou igual a 400\n",
        "porcentagem_sales_amount_usd_maior_que_400 = (numero_de_linhas_sales_amount_usd_maior_ou_igual_400 / total_de_linhas) * 100\n",
        "\n",
        "\n",
        "#Número de linhas com sales_amount_usd menor que 400\n",
        "numero_de_linhas_sales_amount_usd_menor_400 = len(dados8[dados8[\"sales_amount_usd\"] < 400])\n",
        "\n",
        "#Porcentagem de linhas com sales_amount_usd menor 400\n",
        "porcentagem_sales_amount_usd_menor_400 = (numero_de_linhas_sales_amount_usd_menor_400 / total_de_linhas) * 100\n",
        "\n",
        "print(f\"O número de linhas de 'sales_amount_usd' cujo valor é maior ou igual a 400 é {numero_de_linhas_sales_amount_usd_maior_ou_igual_400}\")\n",
        "print(f\"A porcentagem de linhas onde 'sales_amount_usd' maior ou igual a 400 em relação ao total é: {porcentagem_sales_amount_usd_maior_que_400:.2f}%\")\n",
        "print(\"\")\n",
        "print(f\"O número de linhas de 'sales_amount_usd' cujo valor é menor que 400 é {numero_de_linhas_sales_amount_usd_menor_400}\")\n",
        "print(f\"A porcentagem de linhas onde 'sales_amount_usd' maior 400 em relação ao total é: {porcentagem_sales_amount_usd_menor_400:.2f}%\")"
      ]
    },
    {
      "cell_type": "markdown",
      "id": "635f05de",
      "metadata": {},
      "source": [
        "**Identificando em quantas linhas o valor é maior ou igual a 300**"
      ]
    },
    {
      "cell_type": "code",
      "execution_count": 32,
      "id": "284008df",
      "metadata": {},
      "outputs": [
        {
          "name": "stdout",
          "output_type": "stream",
          "text": [
            "O número de linhas de 'sales_amount_usd' cujo valor é maior ou igual a 300 é 47749\n",
            "A porcentagem de linhas onde 'sales_amount_usd' maior ou igual a 300 em relação ao total é: 7.13%\n",
            "\n",
            "O número de linhas de 'sales_amount_usd' cujo valor é menor que 300 é 621913\n",
            "A porcentagem de linhas onde 'sales_amount_usd' menor que 300 em relação ao total é: 92.87%\n"
          ]
        }
      ],
      "source": [
        "total_de_linhas = len(dados8)\n",
        "\n",
        "#Número de linhas com sales_amount_usd maior ou igual a 300\n",
        "numero_de_linhas_sales_amount_usd_maior_ou_igual_300 = len(dados8[dados8[\"sales_amount_usd\"] >= 300])\n",
        "\n",
        "#Porcentagem de linhas com sales_amount_usd maior ou igual a 300\n",
        "porcentagem_sales_amount_usd_maior_que_300 = (numero_de_linhas_sales_amount_usd_maior_ou_igual_300 / total_de_linhas) * 100\n",
        "\n",
        "\n",
        "#Número de linhas com sales_amount_usd menor que 300\n",
        "numero_de_linhas_sales_amount_usd_menor_300 = len(dados8[dados8[\"sales_amount_usd\"] < 300])\n",
        "\n",
        "#Porcentagem de linhas com sales_amount_usd menor 300\n",
        "porcentagem_sales_amount_usd_menor_300 = (numero_de_linhas_sales_amount_usd_menor_300 / total_de_linhas) * 100\n",
        "\n",
        "print(f\"O número de linhas de 'sales_amount_usd' cujo valor é maior ou igual a 300 é {numero_de_linhas_sales_amount_usd_maior_ou_igual_300}\")\n",
        "print(f\"A porcentagem de linhas onde 'sales_amount_usd' maior ou igual a 300 em relação ao total é: {porcentagem_sales_amount_usd_maior_que_300:.2f}%\")\n",
        "print(\"\")\n",
        "print(f\"O número de linhas de 'sales_amount_usd' cujo valor é menor que 300 é {numero_de_linhas_sales_amount_usd_menor_300}\")\n",
        "print(f\"A porcentagem de linhas onde 'sales_amount_usd' menor que 300 em relação ao total é: {porcentagem_sales_amount_usd_menor_300:.2f}%\")"
      ]
    },
    {
      "cell_type": "markdown",
      "id": "4b7e3b26",
      "metadata": {},
      "source": [
        "### Sales_qty"
      ]
    },
    {
      "cell_type": "code",
      "execution_count": 33,
      "id": "5c6df650",
      "metadata": {},
      "outputs": [
        {
          "data": {
            "text/plain": [
              "count           669662.00\n",
              "mean                12.59\n",
              "median (50%)         2.00\n",
              "std                 36.45\n",
              "min                  1.00\n",
              "max                778.00\n",
              "25%                  1.00\n",
              "50%                  2.00\n",
              "75%                  9.00\n",
              "Name: sales_qty, dtype: float64"
            ]
          },
          "execution_count": 33,
          "metadata": {},
          "output_type": "execute_result"
        }
      ],
      "source": [
        "res(dados8['sales_qty'])"
      ]
    },
    {
      "cell_type": "markdown",
      "id": "7db36e42",
      "metadata": {},
      "source": [
        "#### **Gráfico Boxplot** {#grafico-boxplot}"
      ]
    },
    {
      "cell_type": "code",
      "execution_count": 34,
      "id": "6aa280ce",
      "metadata": {},
      "outputs": [
        {
          "data": {
            "image/png": "[encoded data removed]",
            "text/plain": [
              "<Figure size 1000x600 with 1 Axes>"
            ]
          },
          "metadata": {},
          "output_type": "display_data"
        }
      ],
      "source": [
        "import seaborn as sns\n",
        "import matplotlib.pyplot as plt\n",
        "\n",
        "#sns.set(style=\"whitegrid\")  # Define o estilo do gráfico\n",
        "\n",
        "# Ajusta a escala para melhor visualização\n",
        "plt.figure(figsize=(10, 6))\n",
        "\n",
        "# Personaliza o boxplot com a cor desejada\n",
        "sns.boxplot(x=dados8['sales_qty'], width=0.5, linewidth=1.5)\n",
        "\n",
        "# Adiciona título e rótulos aos eixos\n",
        "plt.title('Distribuição de sales_qty')\n",
        "plt.xlabel('sales_qty')\n",
        "\n",
        "# Exibe o gráfico\n",
        "plt.show()"
      ]
    },
    {
      "cell_type": "markdown",
      "id": "e8d7046a",
      "metadata": {},
      "source": [
        "#### **Escolher o ponto de corte para outliers**\n",
        "Pensando de maneira conservadora, o ponto escolhido será de 40 unidades.\n",
        "\n",
        "<br>\n",
        "<center>\n",
        "<img src=\"../Imagens/Limpeza_e_Transformação/ponto_de_outliers2.2.png\" width=\"100%\">\n",
        "</center>"
      ]
    },
    {
      "cell_type": "markdown",
      "id": "583c4f2b",
      "metadata": {},
      "source": [
        "<br>"
      ]
    },
    {
      "cell_type": "markdown",
      "id": "8f1df4a2",
      "metadata": {},
      "source": [
        "<br>"
      ]
    },
    {
      "cell_type": "markdown",
      "id": "39c50f49",
      "metadata": {},
      "source": [
        "**Identificando em quantas linhas o valor é maior ou igual a 100**"
      ]
    },
    {
      "cell_type": "code",
      "execution_count": 35,
      "id": "0f254c16",
      "metadata": {},
      "outputs": [
        {
          "name": "stdout",
          "output_type": "stream",
          "text": [
            "O número de linhas de 'sales_qty' cujo valor é maior ou igual a 100 é 14659\n",
            "A porcentagem de linhas onde 'sales_qty' maior ou igual a  100 em relação ao total é: 2.19%\n",
            "\n",
            "O número de linhas de 'sales_qty' cujo valor é menor que 100 é 655003\n",
            "A porcentagem de linhas onde 'sales_qty' menor que 100 em relação ao total é: 97.81%\n"
          ]
        }
      ],
      "source": [
        "total_de_linhas = len(dados8)\n",
        "\n",
        "#Número de linhas com sales_qty maior ou igual a 100\n",
        "numero_de_linhas_sales_qty_maior_ou_igual_100 = len(dados8[dados8['sales_qty'] >= 100])\n",
        "\n",
        "#Porcentagem de linhas com sales_qty maior ou igual a 100\n",
        "porcentagem_sales_qty_maior_que_100 = (numero_de_linhas_sales_qty_maior_ou_igual_100 / total_de_linhas) * 100\n",
        "\n",
        "\n",
        "#Número de linhas com sales_qty menor que  100\n",
        "numero_de_linhas_sales_qty_menor_100 = len(dados8[dados8['sales_qty'] < 100])\n",
        "\n",
        "#Porcentagem de linhas com sales_qty menor 100\n",
        "porcentagem_sales_qty_menor_100 = (numero_de_linhas_sales_qty_menor_100 / total_de_linhas) * 100\n",
        "\n",
        "print(f\"O número de linhas de 'sales_qty' cujo valor é maior ou igual a 100 é {numero_de_linhas_sales_qty_maior_ou_igual_100}\")\n",
        "print(f\"A porcentagem de linhas onde 'sales_qty' maior ou igual a  100 em relação ao total é: {porcentagem_sales_qty_maior_que_100:.2f}%\")\n",
        "print(\"\")\n",
        "print(f\"O número de linhas de 'sales_qty' cujo valor é menor que 100 é {numero_de_linhas_sales_qty_menor_100}\")\n",
        "print(f\"A porcentagem de linhas onde 'sales_qty' menor que 100 em relação ao total é: {porcentagem_sales_qty_menor_100:.2f}%\")"
      ]
    },
    {
      "cell_type": "markdown",
      "id": "1b4d12a1",
      "metadata": {},
      "source": [
        "<br>"
      ]
    },
    {
      "cell_type": "markdown",
      "id": "39398eca",
      "metadata": {},
      "source": [
        "**Identificando em quantas linhas o valor é maior ou igual a 50**"
      ]
    },
    {
      "cell_type": "code",
      "execution_count": 36,
      "id": "7f29523d",
      "metadata": {},
      "outputs": [
        {
          "name": "stdout",
          "output_type": "stream",
          "text": [
            "O número de linhas de 'sales_qty' cujo valor é maior ou igual a 50 é 35854\n",
            "A porcentagem de linhas onde 'sales_qty' maior ou igual a  50 em relação ao total é: 5.35%\n",
            "\n",
            "O número de linhas de 'sales_qty' cujo valor é menor que 50 é 633808\n",
            "A porcentagem de linhas onde 'sales_qty' menor que 50 em relação ao total é: 94.65%\n"
          ]
        }
      ],
      "source": [
        "total_de_linhas = len(dados8)\n",
        "\n",
        "#Número de linhas com sales_qty maior ou igual a 50\n",
        "numero_de_linhas_sales_qty_maior_ou_igual_50 = len(dados8[dados8['sales_qty'] >= 50])\n",
        "\n",
        "#Porcentagem de linhas com sales_qty maior ou igual a 50\n",
        "porcentagem_sales_qty_maior_que_50 = (numero_de_linhas_sales_qty_maior_ou_igual_50 / total_de_linhas) * 100\n",
        "\n",
        "\n",
        "#Número de linhas com sales_qty menor que  30\n",
        "numero_de_linhas_sales_qty_menor_50 = len(dados8[dados8['sales_qty'] < 50])\n",
        "\n",
        "#Porcentagem de linhas com sales_qty menor 30\n",
        "porcentagem_sales_qty_menor_50 = (numero_de_linhas_sales_qty_menor_50 / total_de_linhas) * 100\n",
        "\n",
        "print(f\"O número de linhas de 'sales_qty' cujo valor é maior ou igual a 50 é {numero_de_linhas_sales_qty_maior_ou_igual_50}\")\n",
        "print(f\"A porcentagem de linhas onde 'sales_qty' maior ou igual a  50 em relação ao total é: {porcentagem_sales_qty_maior_que_50:.2f}%\")\n",
        "print(\"\")\n",
        "print(f\"O número de linhas de 'sales_qty' cujo valor é menor que 50 é {numero_de_linhas_sales_qty_menor_50}\")\n",
        "print(f\"A porcentagem de linhas onde 'sales_qty' menor que 50 em relação ao total é: {porcentagem_sales_qty_menor_50:.2f}%\")\n"
      ]
    },
    {
      "cell_type": "markdown",
      "id": "92c14104",
      "metadata": {},
      "source": [
        "**Identificando em quantas linhas o valor é maior ou igual a 40**"
      ]
    },
    {
      "cell_type": "code",
      "execution_count": 37,
      "id": "29a7250a",
      "metadata": {},
      "outputs": [
        {
          "name": "stdout",
          "output_type": "stream",
          "text": [
            "O número de linhas de 'sales_qty' cujo valor é maior ou igual a 40 é 47883\n",
            "A porcentagem de linhas onde 'sales_qty' maior ou igual a  40 em relação ao total é: 7.15%\n",
            "\n",
            "O número de linhas de 'sales_qty' cujo valor é menor que 40 é 621779\n",
            "A porcentagem de linhas onde 'sales_qty' maior 40 em relação ao total é: 92.85%\n"
          ]
        }
      ],
      "source": [
        "total_de_linhas = len(dados8)\n",
        "\n",
        "#Número de linhas com sales_qty maior ou igual a 40\n",
        "numero_de_linhas_sales_qty_maior_ou_igual_40 = len(dados8[dados8['sales_qty'] >= 40])\n",
        "\n",
        "#Porcentagem de linhas com sales_qty maior ou igual a 40\n",
        "porcentagem_sales_qty_maior_que_40 = (numero_de_linhas_sales_qty_maior_ou_igual_40 / total_de_linhas) * 100\n",
        "\n",
        "\n",
        "#Número de linhas com sales_qty menor que  40\n",
        "numero_de_linhas_sales_qty_menor_40 = len(dados8[dados8['sales_qty'] < 40])\n",
        "\n",
        "#Porcentagem de linhas com sales_qty menor 40\n",
        "porcentagem_sales_qty_menor_40 = (numero_de_linhas_sales_qty_menor_40 / total_de_linhas) * 100\n",
        "\n",
        "print(f\"O número de linhas de 'sales_qty' cujo valor é maior ou igual a 40 é {numero_de_linhas_sales_qty_maior_ou_igual_40}\")\n",
        "print(f\"A porcentagem de linhas onde 'sales_qty' maior ou igual a  40 em relação ao total é: {porcentagem_sales_qty_maior_que_40:.2f}%\")\n",
        "print(\"\")\n",
        "print(f\"O número de linhas de 'sales_qty' cujo valor é menor que 40 é {numero_de_linhas_sales_qty_menor_40}\")\n",
        "print(f\"A porcentagem de linhas onde 'sales_qty' maior 40 em relação ao total é: {porcentagem_sales_qty_menor_40:.2f}%\")\n"
      ]
    },
    {
      "cell_type": "markdown",
      "id": "404d8669",
      "metadata": {},
      "source": [
        "**Identificando em quantas linhas o valor é maior ou igual a 30**"
      ]
    },
    {
      "cell_type": "code",
      "execution_count": 38,
      "id": "c9955c70",
      "metadata": {},
      "outputs": [
        {
          "name": "stdout",
          "output_type": "stream",
          "text": [
            "O número de linhas de 'sales_qty' cujo valor é maior ou igual a 30 é 63168\n",
            "A porcentagem de linhas onde 'sales_qty' maior ou igual a  30 em relação ao total é: 9.43%\n",
            "\n",
            "O número de linhas de 'sales_qty' cujo valor é menor que 30 é 606494\n",
            "A porcentagem de linhas onde 'sales_qty' maior 30 em relação ao total é: 90.57%\n"
          ]
        }
      ],
      "source": [
        "total_de_linhas = len(dados8)\n",
        "\n",
        "#Número de linhas com sales_qty maior ou igual a 30\n",
        "numero_de_linhas_sales_qty_maior_ou_igual_30 = len(dados8[dados8['sales_qty'] >= 30])\n",
        "\n",
        "#Porcentagem de linhas com sales_qty maior ou igual a 30\n",
        "porcentagem_sales_qty_maior_que_30 = (numero_de_linhas_sales_qty_maior_ou_igual_30 / total_de_linhas) * 100\n",
        "\n",
        "\n",
        "#Número de linhas com sales_qty menor que  30\n",
        "numero_de_linhas_sales_qty_menor_30 = len(dados8[dados8['sales_qty'] < 30])\n",
        "\n",
        "#Porcentagem de linhas com sales_qty menor 30\n",
        "porcentagem_sales_qty_menor_30 = (numero_de_linhas_sales_qty_menor_30 / total_de_linhas) * 100\n",
        "\n",
        "print(f\"O número de linhas de 'sales_qty' cujo valor é maior ou igual a 30 é {numero_de_linhas_sales_qty_maior_ou_igual_30}\")\n",
        "print(f\"A porcentagem de linhas onde 'sales_qty' maior ou igual a  30 em relação ao total é: {porcentagem_sales_qty_maior_que_30:.2f}%\")\n",
        "print(\"\")\n",
        "print(f\"O número de linhas de 'sales_qty' cujo valor é menor que 30 é {numero_de_linhas_sales_qty_menor_30}\")\n",
        "print(f\"A porcentagem de linhas onde 'sales_qty' maior 30 em relação ao total é: {porcentagem_sales_qty_menor_30:.2f}%\")\n"
      ]
    },
    {
      "cell_type": "markdown",
      "id": "e2bbf43d",
      "metadata": {},
      "source": [
        "**Identificando em quantas linhas o valor é maior ou igual a 20**"
      ]
    },
    {
      "cell_type": "code",
      "execution_count": 39,
      "id": "ef08c881",
      "metadata": {},
      "outputs": [
        {
          "name": "stdout",
          "output_type": "stream",
          "text": [
            "O número de linhas de 'sales_qty' cujo valor é maior ou igual a 20 é 94176\n",
            "A porcentagem de linhas onde 'sales_qty' maior ou igual a  20 em relação ao total é: 14.06%\n",
            "\n",
            "O número de linhas de 'sales_qty' cujo valor é menor que 20 é 575486\n",
            "A porcentagem de linhas onde 'sales_qty' maior 20 em relação ao total é: 85.94%\n"
          ]
        }
      ],
      "source": [
        "total_de_linhas = len(dados8)\n",
        "\n",
        "#Número de linhas com sales_qty maior ou igual a 20\n",
        "numero_de_linhas_sales_qty_maior_ou_igual_20 = len(dados8[dados8['sales_qty'] >= 20])\n",
        "\n",
        "#Porcentagem de linhas com sales_qty maior ou igual a 20\n",
        "porcentagem_sales_qty_maior_que_20 = (numero_de_linhas_sales_qty_maior_ou_igual_20 / total_de_linhas) * 100\n",
        "\n",
        "\n",
        "#Número de linhas com sales_qty menor que  20\n",
        "numero_de_linhas_sales_qty_menor_20 = len(dados8[dados8['sales_qty'] < 20])\n",
        "\n",
        "#Porcentagem de linhas com sales_qty menor 30\n",
        "porcentagem_sales_qty_menor_20 = (numero_de_linhas_sales_qty_menor_20 / total_de_linhas) * 100\n",
        "\n",
        "print(f\"O número de linhas de 'sales_qty' cujo valor é maior ou igual a 20 é {numero_de_linhas_sales_qty_maior_ou_igual_20}\")\n",
        "print(f\"A porcentagem de linhas onde 'sales_qty' maior ou igual a  20 em relação ao total é: {porcentagem_sales_qty_maior_que_20:.2f}%\")\n",
        "print(\"\")\n",
        "print(f\"O número de linhas de 'sales_qty' cujo valor é menor que 20 é {numero_de_linhas_sales_qty_menor_20}\")\n",
        "print(f\"A porcentagem de linhas onde 'sales_qty' maior 20 em relação ao total é: {porcentagem_sales_qty_menor_20:.2f}%\")\n"
      ]
    },
    {
      "cell_type": "markdown",
      "id": "e7933bec",
      "metadata": {},
      "source": [
        "<br>"
      ]
    },
    {
      "cell_type": "markdown",
      "id": "303190ff",
      "metadata": {},
      "source": [
        "#### **Retirar as Outliers**"
      ]
    },
    {
      "cell_type": "markdown",
      "id": "7fbf7654",
      "metadata": {},
      "source": [
        "**Sales amount**"
      ]
    },
    {
      "cell_type": "code",
      "execution_count": 40,
      "id": "45df47b7",
      "metadata": {},
      "outputs": [],
      "source": [
        "dados8 = dados8[dados8['sales_amount_usd'] < 500]"
      ]
    },
    {
      "cell_type": "code",
      "execution_count": 41,
      "id": "61628d3d",
      "metadata": {},
      "outputs": [
        {
          "data": {
            "text/plain": [
              "643228"
            ]
          },
          "execution_count": 41,
          "metadata": {},
          "output_type": "execute_result"
        }
      ],
      "source": [
        "#Verificar a quantidade de linhas\n",
        "len(dados8)"
      ]
    },
    {
      "cell_type": "code",
      "execution_count": 42,
      "id": "518f35a0",
      "metadata": {},
      "outputs": [
        {
          "data": {
            "text/plain": [
              "0"
            ]
          },
          "execution_count": 42,
          "metadata": {},
          "output_type": "execute_result"
        }
      ],
      "source": [
        "#Checar se deu certo\n",
        "# Contando o número de linhas que estão acima de 900\n",
        "quant_de_linhas_500 = dados8[\"sales_amount_usd\"].loc[dados8[\"sales_amount_usd\"] > 500].value_counts().size\n",
        "quant_de_linhas_500"
      ]
    },
    {
      "cell_type": "markdown",
      "id": "656324fb",
      "metadata": {},
      "source": [
        "<br>\n",
        "<b>Sales qty</b>"
      ]
    },
    {
      "cell_type": "code",
      "execution_count": 43,
      "id": "388c0c15",
      "metadata": {},
      "outputs": [],
      "source": [
        "dados8a = dados8[dados8[\"sales_qty\"] < 40]"
      ]
    },
    {
      "cell_type": "code",
      "execution_count": 44,
      "id": "e068be59",
      "metadata": {},
      "outputs": [
        {
          "data": {
            "text/plain": [
              "0"
            ]
          },
          "execution_count": 44,
          "metadata": {},
          "output_type": "execute_result"
        }
      ],
      "source": [
        "#Checar se deu certo\n",
        "# Contando o número de linhas que estão acima de 3\n",
        "quant_de_linhas_100 = dados8a[\"sales_qty\"].loc[dados8a[\"sales_qty\"] > 40].value_counts().size\n",
        "quant_de_linhas_100"
      ]
    },
    {
      "cell_type": "code",
      "execution_count": 45,
      "id": "906a6f3a",
      "metadata": {},
      "outputs": [
        {
          "data": {
            "text/plain": [
              "643228"
            ]
          },
          "execution_count": 45,
          "metadata": {},
          "output_type": "execute_result"
        }
      ],
      "source": [
        "#Verificar a quantidade de linhas\n",
        "len(dados8)"
      ]
    },
    {
      "cell_type": "markdown",
      "id": "cc0492f8",
      "metadata": {},
      "source": [
        "**Criar nova tabela**"
      ]
    },
    {
      "cell_type": "code",
      "execution_count": 46,
      "id": "b4a45817",
      "metadata": {},
      "outputs": [],
      "source": [
        "#Salvar tabela dados8\n",
        "dados8a.to_csv(\"../Outros_datasets/dados8.csv\", index=False)"
      ]
    },
    {
      "cell_type": "code",
      "execution_count": 47,
      "id": "29e454dd",
      "metadata": {},
      "outputs": [],
      "source": [
        "import pandas as pd\n",
        "#Criar tabela dados9\n",
        "dados8=pd.read_csv(\"../Outros_datasets/dados8.csv\")\n",
        "dados9=dados8"
      ]
    },
    {
      "cell_type": "markdown",
      "id": "80d55659",
      "metadata": {},
      "source": [
        "## Retirar colunas\n",
        "Será retirado 4 colunas pois estas não serão usadas nem na análise descritiva e nem na modelagem. As colunas são: <br>\n",
        "- **'lic_no':** número da licença do restaurante. <br>\n",
        "- **'link':** link para o site do restaurante . <br>\n",
        "- **'address':** endereço do restaurante.<br>\n",
        "- **'email':** email dos clientes"
      ]
    },
    {
      "cell_type": "code",
      "execution_count": 48,
      "id": "eaf65b85",
      "metadata": {},
      "outputs": [],
      "source": [
        "dados9 = dados9.drop('lic_no', axis=1)\n",
        "dados9=dados9.drop('link', axis=1)\n",
        "dados9=dados9.drop('address', axis=1)\n",
        "dados9=dados9.drop('email', axis=1)"
      ]
    },
    {
      "cell_type": "markdown",
      "id": "11c40026",
      "metadata": {},
      "source": [
        "## Salvar tabela para Análise Descritiva\n",
        "As modificações feitas até agora serão salvas numa tabela. E esta será utilizada na análise descritiva "
      ]
    },
    {
      "cell_type": "code",
      "execution_count": 49,
      "id": "b04db2b5",
      "metadata": {},
      "outputs": [],
      "source": [
        "dados9.to_csv('../Outros_datasets/dados9_tabela_para_analise_descritiva.csv', index=False)"
      ]
    },
    {
      "cell_type": "markdown",
      "id": "95842745",
      "metadata": {},
      "source": [
        "----- //----\n",
        "</div>"
      ]
    }
  ],
  "metadata": {
    "kernelspec": {
      "display_name": "Python 3 (ipykernel)",
      "language": "python",
      "name": "python3"
    },
    "language_info": {
      "codemirror_mode": {
        "name": "ipython",
        "version": 3
      },
      "file_extension": ".py",
      "mimetype": "text/x-python",
      "name": "python",
      "nbconvert_exporter": "python",
      "pygments_lexer": "ipython3",
      "version": "3.11.0"
    }
  },
  "nbformat": 4,
  "nbformat_minor": 5
}
